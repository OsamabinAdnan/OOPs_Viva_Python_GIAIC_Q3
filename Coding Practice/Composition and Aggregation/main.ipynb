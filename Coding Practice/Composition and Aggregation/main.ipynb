{
 "cells": [
  {
   "cell_type": "markdown",
   "id": "872101a1",
   "metadata": {},
   "source": [
    "### **Implementing Composition and Aggregation**"
   ]
  },
  {
   "cell_type": "code",
   "execution_count": 2,
   "id": "9cea551d",
   "metadata": {},
   "outputs": [],
   "source": [
    "# Composition example\n",
    "class Engine:\n",
    "    def start(self):\n",
    "        return \"Engine starting\"\n",
    "    \n",
    "class Car:\n",
    "    def __init__(self):\n",
    "        self.engine = Engine() # Composition: Car *has-a* Engine, and owns it\n",
    "    \n",
    "    def start(self):\n",
    "        return f\"Car starting: {self.engine.start()}\"\n",
    "\n",
    "# Aggregation example\n",
    "class Department:\n",
    "    def __init__(self, name):\n",
    "        self.name = name\n",
    "\n",
    "class University:\n",
    "    def __init__(self, name):\n",
    "        self.name = name\n",
    "        self.departments = [] # University *has-a* Department, but doesn't own it\n",
    "\n",
    "    def add_department(self, department):\n",
    "        self.departments.append(department)"
   ]
  },
  {
   "cell_type": "markdown",
   "id": "11f57b32",
   "metadata": {},
   "source": [
    "In this example:\n",
    "\n",
    "* Car and Engine demonstrate composition. The Car class creates and owns an instance of the Engine class. If the Car object is destroyed, the Engine object is also destroyed.\n",
    "\n",
    "* University and Department demonstrate aggregation. The University class contains a list of Department objects, but the Department objects can exist independently of the University object. The university does not exclusively own the Department."
   ]
  }
 ],
 "metadata": {
  "kernelspec": {
   "display_name": "Python 3",
   "language": "python",
   "name": "python3"
  },
  "language_info": {
   "codemirror_mode": {
    "name": "ipython",
    "version": 3
   },
   "file_extension": ".py",
   "mimetype": "text/x-python",
   "name": "python",
   "nbconvert_exporter": "python",
   "pygments_lexer": "ipython3",
   "version": "3.13.2"
  }
 },
 "nbformat": 4,
 "nbformat_minor": 5
}
