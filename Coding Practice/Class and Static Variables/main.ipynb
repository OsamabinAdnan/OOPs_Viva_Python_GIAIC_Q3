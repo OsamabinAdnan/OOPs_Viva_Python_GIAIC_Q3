{
 "cells": [
  {
   "cell_type": "markdown",
   "id": "c75aa8e4",
   "metadata": {},
   "source": [
    "### **Working with Class and Static Variables**"
   ]
  }
 ],
 "metadata": {
  "language_info": {
   "name": "python"
  }
 },
 "nbformat": 4,
 "nbformat_minor": 5
}
