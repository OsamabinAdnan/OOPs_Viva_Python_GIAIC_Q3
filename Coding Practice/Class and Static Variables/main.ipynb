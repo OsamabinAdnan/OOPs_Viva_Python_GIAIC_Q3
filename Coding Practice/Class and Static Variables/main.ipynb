{
 "cells": [
  {
   "cell_type": "markdown",
   "id": "c75aa8e4",
   "metadata": {},
   "source": [
    "### **Working with Class and Static Variables**"
   ]
  },
  {
   "cell_type": "code",
   "execution_count": 6,
   "id": "62b504b6",
   "metadata": {},
   "outputs": [
    {
     "name": "stdout",
     "output_type": "stream",
     "text": [
      "Cake\n",
      "Chocolate\n",
      "15.0\n",
      "Pastry\n",
      "Cookie\n",
      "Pastry\n"
     ]
    }
   ],
   "source": [
    "class Bakery:\n",
    "    type = \"Cake\" # Class variable\n",
    "\n",
    "    def __init__(self, flavor, price):\n",
    "        self.flavor = flavor # Instance variable\n",
    "        self.price = price # Instance variable\n",
    "    \n",
    "    def update_cake_count(cls, count):\n",
    "        cls.cake_count = count\n",
    "\n",
    "#Accessing\n",
    "print(Bakery.type) # Accessing class variable\n",
    "\n",
    "cake1 = Bakery(\"Chocolate\", 20.0) # Creating an instance of Bakery\n",
    "cake2 = Bakery(\"Vanilla\", 15.0) # Creating another instance of Bakery\n",
    "\n",
    "print(cake1.flavor) # Accessing instance variable\n",
    "print(cake2.price) # Accessing instance variable\n",
    "\n",
    "#Modifying\n",
    "Bakery.type = \"Pastry\" # Modifying class variable\n",
    "print(cake1.type) # Accessing modified class variable\n",
    "\n",
    "cake1.type = \"Cookie\" # Modifying instance variable\n",
    "print(cake1.type) # Accessing modified instance variable\n",
    "print(cake2.type) # Accessing class variable from instance"
   ]
  }
 ],
 "metadata": {
  "kernelspec": {
   "display_name": "Python 3",
   "language": "python",
   "name": "python3"
  },
  "language_info": {
   "codemirror_mode": {
    "name": "ipython",
    "version": 3
   },
   "file_extension": ".py",
   "mimetype": "text/x-python",
   "name": "python",
   "nbconvert_exporter": "python",
   "pygments_lexer": "ipython3",
   "version": "3.13.2"
  }
 },
 "nbformat": 4,
 "nbformat_minor": 5
}
