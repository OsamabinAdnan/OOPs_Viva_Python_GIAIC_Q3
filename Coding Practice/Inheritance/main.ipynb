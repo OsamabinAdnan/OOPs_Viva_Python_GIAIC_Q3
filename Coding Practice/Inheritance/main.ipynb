{
 "cells": [
  {
   "cell_type": "markdown",
   "id": "e1b51028",
   "metadata": {},
   "source": [
    "### **Single Inheritance**"
   ]
  },
  {
   "cell_type": "code",
   "execution_count": 1,
   "id": "1ad5acf9",
   "metadata": {},
   "outputs": [
    {
     "name": "stdout",
     "output_type": "stream",
     "text": [
      "Woof!\n"
     ]
    }
   ],
   "source": [
    "class Animal:\n",
    "    def __init__(self, name, age):\n",
    "        self.name = name\n",
    "        self.age = age\n",
    "    \n",
    "    def speak(self):\n",
    "        return \"Animal Sound\"\n",
    "\n",
    "class Dog(Animal):\n",
    "    def speak(self):\n",
    "        return \"Woof!\"\n",
    "\n",
    "dog = Dog(\"Buddy\", 3)\n",
    "print(dog.speak())"
   ]
  },
  {
   "cell_type": "markdown",
   "id": "19ac5989",
   "metadata": {},
   "source": [
    "### **Multiple Inheritance**"
   ]
  },
  {
   "cell_type": "code",
   "execution_count": 4,
   "id": "863ee863",
   "metadata": {},
   "outputs": [
    {
     "name": "stdout",
     "output_type": "stream",
     "text": [
      "Flying high!\n",
      "Swimming deep!\n"
     ]
    }
   ],
   "source": [
    "# First parent class\n",
    "class Bird:\n",
    "    def fly(self):\n",
    "        return \"Flying high!\"\n",
    "\n",
    "# Second parent class\n",
    "class Fish:\n",
    "    def swim(self):\n",
    "        return \"Swimming deep!\"\n",
    "    \n",
    "class FlyingFish(Bird, Fish):\n",
    "    pass\n",
    "\n",
    "# Create an instance of the FlyingFish class\n",
    "flying_fish = FlyingFish()\n",
    "print(flying_fish.fly())\n",
    "print(flying_fish.swim())"
   ]
  },
  {
   "cell_type": "markdown",
   "id": "ebd21266",
   "metadata": {},
   "source": [
    "### **Using super() and Method Overriding**"
   ]
  },
  {
   "cell_type": "code",
   "execution_count": 5,
   "id": "d4a83c6e",
   "metadata": {},
   "outputs": [
    {
     "name": "stdout",
     "output_type": "stream",
     "text": [
      "Toyota Corolla (2022)\n"
     ]
    }
   ],
   "source": [
    "class Vehicle:\n",
    "    def __init__(self, brand, model):\n",
    "        self.brand = brand\n",
    "        self.model = model\n",
    "    \n",
    "    def display(self):\n",
    "        return f\"{self.brand} {self.model}\"\n",
    "\n",
    "class Car(Vehicle):\n",
    "    def __init__(self, brand, model, year):\n",
    "        super().__init__(brand, model) # Call the parent class constructor\n",
    "        self.year = year\n",
    "    \n",
    "    # Override the display method\n",
    "    def display(self):\n",
    "        return f\"{self.brand} {self.model} ({self.year})\"\n",
    "    \n",
    "# Create an instance of the Car class\n",
    "car = Car(\"Toyota\", \"Corolla\", 2022)\n",
    "print(car.display())  # Output: Toyota Corolla (2022)"
   ]
  }
 ],
 "metadata": {
  "kernelspec": {
   "display_name": "Python 3",
   "language": "python",
   "name": "python3"
  },
  "language_info": {
   "codemirror_mode": {
    "name": "ipython",
    "version": 3
   },
   "file_extension": ".py",
   "mimetype": "text/x-python",
   "name": "python",
   "nbconvert_exporter": "python",
   "pygments_lexer": "ipython3",
   "version": "3.13.2"
  }
 },
 "nbformat": 4,
 "nbformat_minor": 5
}
