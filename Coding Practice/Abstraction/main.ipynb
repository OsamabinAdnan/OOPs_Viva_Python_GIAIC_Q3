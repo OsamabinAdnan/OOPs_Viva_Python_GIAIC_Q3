{
 "cells": [
  {
   "cell_type": "markdown",
   "id": "a1c43978",
   "metadata": {},
   "source": [
    "### **Key components:**\n",
    "\n",
    "1. `ABC` makes the class abstract\n",
    "\n",
    "2. `@abstractmethod` marks required methods\n",
    "\n",
    "3. Child classes `must` implement all `abstract methods`"
   ]
  },
  {
   "cell_type": "markdown",
   "id": "a336d8f3",
   "metadata": {},
   "source": [
    "### **Shape Calculator**"
   ]
  },
  {
   "cell_type": "code",
   "execution_count": 3,
   "id": "1d405506",
   "metadata": {},
   "outputs": [],
   "source": [
    "from abc import ABC, abstractmethod\n",
    "\n",
    "class Shape(ABC):\n",
    "    @abstractmethod\n",
    "    def calculate_area(self):\n",
    "        pass\n",
    "\n",
    "class Circle(Shape):\n",
    "    def __init__ (self, radius):\n",
    "        self.radius = radius\n",
    "    \n",
    "    def calculate_area(self):\n",
    "        return 3.14 * (self.radius ** 2)\n",
    "\n",
    "class Square(Shape):\n",
    "    def __init__ (self, side):\n",
    "        self.side = side\n",
    "    \n",
    "    def calculate_area(self):\n",
    "        return self.side ** 2\n"
   ]
  },
  {
   "cell_type": "markdown",
   "id": "0a6a7097",
   "metadata": {},
   "source": [
    "### **Test Case:**"
   ]
  },
  {
   "cell_type": "code",
   "execution_count": 4,
   "id": "b260a194",
   "metadata": {},
   "outputs": [],
   "source": [
    "import pytest\n",
    "\n",
    "# Test abstract class behavior\n",
    "def test_cannot_instantiate_abstract_shape():\n",
    "    with pytest.raises(TypeError) as error:\n",
    "        Shape()\n",
    "    assert \"abstract\" in str(error.value).lower()\n",
    "\n",
    "# Test Circle functionality\n",
    "class TestCircle:\n",
    "    def test_normal_radius_area(self):\n",
    "        circle = Circle(5)\n",
    "        assert circle.calculate_area() == pytest.approx(78.5)\n",
    "    \n",
    "    def test_zero_radius_area(self):\n",
    "        assert Circle(0).calculate_area() == 0\n",
    "    \n",
    "    def test_large_radius(self):\n",
    "        assert Circle(100).calculate_area() == 3.14 * 100**2\n",
    "\n",
    "# Test Square functionality\n",
    "class TestSquare:\n",
    "    def test_standard_square(self):\n",
    "        square = Square(4)\n",
    "        assert square.calculate_area() == 16  # 4²\n",
    "    \n",
    "    def test_zero_size_square(self):\n",
    "        assert Square(0).calculate_area() == 0\n",
    "    \n",
    "    def test_negative_side(self):\n",
    "        \"\"\"Demonstrates handling of negative values (current code allows this)\"\"\"\n",
    "        assert Square(-3).calculate_area() == 9  # (-3)² = 9"
   ]
  },
  {
   "cell_type": "code",
   "execution_count": 5,
   "id": "96409b34",
   "metadata": {},
   "outputs": [
    {
     "name": "stdout",
     "output_type": "stream",
     "text": [
      "circle.calculate_area():  78.5\n",
      "square.calculate_area():  16\n"
     ]
    }
   ],
   "source": [
    "circle = Circle(5)\n",
    "print(\"circle.calculate_area(): \",circle.calculate_area())\n",
    "\n",
    "square = Square(4)\n",
    "print(\"square.calculate_area(): \", square.calculate_area())"
   ]
  }
 ],
 "metadata": {
  "kernelspec": {
   "display_name": "Python 3",
   "language": "python",
   "name": "python3"
  },
  "language_info": {
   "codemirror_mode": {
    "name": "ipython",
    "version": 3
   },
   "file_extension": ".py",
   "mimetype": "text/x-python",
   "name": "python",
   "nbconvert_exporter": "python",
   "pygments_lexer": "ipython3",
   "version": "3.13.2"
  }
 },
 "nbformat": 4,
 "nbformat_minor": 5
}
