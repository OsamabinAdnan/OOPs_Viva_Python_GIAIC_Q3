{
 "cells": [
  {
   "cell_type": "markdown",
   "id": "0afbb173",
   "metadata": {},
   "source": [
    "### **Understanding MRO in Python**"
   ]
  },
  {
   "cell_type": "code",
   "execution_count": 2,
   "id": "7f432515",
   "metadata": {},
   "outputs": [
    {
     "name": "stdout",
     "output_type": "stream",
     "text": [
      "[<class '__main__.D'>, <class '__main__.B'>, <class '__main__.C'>, <class '__main__.A'>, <class 'object'>]\n",
      "Hello from B\n"
     ]
    }
   ],
   "source": [
    "class A:\n",
    "    def greet(self):\n",
    "        return \"Hello from A\"\n",
    "class B(A):\n",
    "    def greet(self):\n",
    "        return \"Hello from B\"\n",
    "class C(A):\n",
    "    def greet(self):\n",
    "        return \"Hello from C\"\n",
    "class D(B, C):\n",
    "    pass\n",
    "\n",
    "# Create an instance of D\n",
    "d = D()\n",
    "\n",
    "# Check the MRO of class D\n",
    "print(D.mro())\n",
    "\n",
    "print(d.greet())  # Output: Hello from B"
   ]
  },
  {
   "cell_type": "markdown",
   "id": "485ea7ba",
   "metadata": {},
   "source": [
    "### **Diamond Inheritance**"
   ]
  },
  {
   "cell_type": "code",
   "execution_count": 7,
   "id": "fe9fc9d1",
   "metadata": {},
   "outputs": [
    {
     "name": "stdout",
     "output_type": "stream",
     "text": [
      "[<class '__main__.W'>, <class '__main__.Y'>, <class '__main__.Z'>, <class '__main__.X'>, <class 'object'>]\n",
      "Hello from Y\n"
     ]
    }
   ],
   "source": [
    "class X:\n",
    "    def greet(self):\n",
    "        return \"Hello from X\"\n",
    "\n",
    "class Y(X):\n",
    "    def greet(self):\n",
    "        return \"Hello from Y\"\n",
    "\n",
    "class Z(X):\n",
    "    def greet(self):\n",
    "        return \"Hello from Z\"\n",
    "\n",
    "class W(Y, Z):\n",
    "    pass\n",
    "\n",
    "# Create an instance of W\n",
    "w = W()\n",
    "# Check the MRO of class W\n",
    "print(W.mro())\n",
    "print(w.greet())"
   ]
  }
 ],
 "metadata": {
  "kernelspec": {
   "display_name": "Python 3",
   "language": "python",
   "name": "python3"
  },
  "language_info": {
   "codemirror_mode": {
    "name": "ipython",
    "version": 3
   },
   "file_extension": ".py",
   "mimetype": "text/x-python",
   "name": "python",
   "nbconvert_exporter": "python",
   "pygments_lexer": "ipython3",
   "version": "3.13.2"
  }
 },
 "nbformat": 4,
 "nbformat_minor": 5
}
