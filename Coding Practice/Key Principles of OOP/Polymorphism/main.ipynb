{
 "cells": [
  {
   "cell_type": "markdown",
   "id": "494e80ba",
   "metadata": {},
   "source": [
    "### **Problem 1: Animal Sounds**\n",
    "\n",
    "Create a base class Animal with a method make_sound().\n",
    "\n",
    "Then, create 2-3 subclasses like Dog, Cat, and Cow, each implementing their own version of make_sound().\n",
    "\n",
    "**Task:**\n",
    "Write a function that takes a list of Animal objects and calls make_sound() on each."
   ]
  },
  {
   "cell_type": "code",
   "execution_count": 1,
   "id": "6cf4e662",
   "metadata": {},
   "outputs": [
    {
     "name": "stdout",
     "output_type": "stream",
     "text": [
      "Luci barks\n",
      "Garfield meows\n",
      "Bessie moos\n"
     ]
    }
   ],
   "source": [
    "class Animal():\n",
    "    def __init__(self, name):\n",
    "        self.name = name\n",
    "    \n",
    "    def make_sound(self):\n",
    "        return f\"{self.name} makes a sound\"\n",
    "\n",
    "class Dog(Animal):\n",
    "    def __init__(self, name):\n",
    "        super().__init__(name)\n",
    "    \n",
    "    def make_sound(self):\n",
    "        return f\"{self.name} barks\"\n",
    "\n",
    "class Cat(Animal):\n",
    "    def __init__(self, name):\n",
    "        super().__init__(name)\n",
    "    \n",
    "    def make_sound(self):\n",
    "        return f\"{self.name} meows\"\n",
    "\n",
    "class Cow(Animal):\n",
    "    def __init__(self, name):\n",
    "        super().__init__(name)\n",
    "    \n",
    "    def make_sound(self):\n",
    "        return f\"{self.name} moos\"\n",
    "\n",
    "animals = [Dog(\"Luci\"), Cat(\"Garfield\"), Cow(\"Bessie\")]\n",
    "\n",
    "for animal in animals:\n",
    "    print(animal.make_sound())"
   ]
  },
  {
   "cell_type": "markdown",
   "id": "f7163ac3",
   "metadata": {},
   "source": [
    "### **Problem 2: Shape Area Calculator**\n",
    "\n",
    "Create a base class Shape with a method area().\n",
    "\n",
    "Then, create classes like Circle, Rectangle, and Triangle, each with their own area() method.\n",
    "\n",
    "**Task:**\n",
    "Write a function that calculates and prints the area of a list of different shapes.\n",
    "\n"
   ]
  },
  {
   "cell_type": "code",
   "execution_count": 6,
   "id": "f73da3f7",
   "metadata": {},
   "outputs": [
    {
     "name": "stdout",
     "output_type": "stream",
     "text": [
      "The area of circle is 314.16\n",
      "The area of rectangle is 187.00\n",
      "The area of triangle is 178.50\n"
     ]
    }
   ],
   "source": [
    "import math\n",
    "from abc import ABC, abstractmethod\n",
    "\n",
    "class Shape(ABC):\n",
    "    @abstractmethod\n",
    "    def area(self):\n",
    "        pass\n",
    "\n",
    "class Circle(Shape):\n",
    "    def __init__(self, radius):\n",
    "        self.radius = radius\n",
    "\n",
    "    def area(self):\n",
    "        return f\"The area of circle is {(math.pi * (self.radius ** 2)):.2f}\"\n",
    "\n",
    "class Rectangle(Shape):\n",
    "    def __init__(self, length, width):\n",
    "        self.length = length\n",
    "        self.width = width\n",
    "\n",
    "    def area(self):\n",
    "        return f\"The area of rectangle is {(self.length * self.width):.2f}\"\n",
    "\n",
    "class Triangle(Shape):\n",
    "    def __init__(self, base, height):\n",
    "        self.base = base\n",
    "        self.height = height\n",
    "\n",
    "    def area(self):\n",
    "        return f\"The area of triangle is {(0.5 * self.base * self.height):.2f}\"\n",
    "\n",
    "shapes = [Circle(10), Rectangle(17, 11), Triangle(21, 17)]\n",
    "\n",
    "for shape in shapes:\n",
    "    print(shape.area())\n"
   ]
  },
  {
   "cell_type": "markdown",
   "id": "5911ee44",
   "metadata": {},
   "source": [
    "### **Problem 3: File Reader**\n",
    "\n",
    "Create a base class FileReader with a method read().\n",
    "\n",
    "Then create subclasses TextFileReader, CSVFileReader, and JSONFileReader.\n",
    "\n",
    "Each subclass should return some dummy output like \"Reading text file\", etc.\n",
    "\n",
    "**Task:**\n",
    "Create a function that accepts a list of FileReader objects and calls read() on each.\n",
    "\n"
   ]
  },
  {
   "cell_type": "code",
   "execution_count": 8,
   "id": "96d2ec32",
   "metadata": {},
   "outputs": [
    {
     "name": "stdout",
     "output_type": "stream",
     "text": [
      "Reading text file\n",
      "Reading CSV file\n",
      "Reading JSON file\n"
     ]
    }
   ],
   "source": [
    "from abc import ABC, abstractmethod\n",
    "from typing import List\n",
    "\n",
    "class FileReader(ABC):\n",
    "    @abstractmethod\n",
    "    def read(self) -> str:\n",
    "        pass\n",
    "\n",
    "class TextFileReader(FileReader):\n",
    "    def read(self) -> str:\n",
    "        return \"Reading text file\"\n",
    "\n",
    "class CSVFileReader(FileReader):\n",
    "    def read(self) -> str:\n",
    "        return \"Reading CSV file\"\n",
    "\n",
    "class JSONFileReader(FileReader):\n",
    "    def read(self) -> str:\n",
    "        return \"Reading JSON file\"\n",
    "\n",
    "def read_all_files(readers: List[FileReader]) -> None:\n",
    "    for reader in readers:\n",
    "        print(reader.read())\n",
    "\n",
    "file_readers = [TextFileReader(), CSVFileReader(), JSONFileReader()]\n",
    "read_all_files(file_readers)\n"
   ]
  },
  {
   "cell_type": "markdown",
   "id": "bea1eeaf",
   "metadata": {},
   "source": [
    "### **Problem 4: Payment System**\n",
    "\n",
    "Create a base class PaymentMethod with a method pay(amount).\n",
    "\n",
    "Subclasses: CreditCard, PayPal, Crypto.\n",
    "\n",
    "**Task:**\n",
    "\n",
    "Write a function that processes payments using different methods and prints which method is used."
   ]
  },
  {
   "cell_type": "code",
   "execution_count": 11,
   "id": "b91ef42a",
   "metadata": {},
   "outputs": [
    {
     "name": "stdout",
     "output_type": "stream",
     "text": [
      "Paid 100 using credit card\n",
      "Paid 100 using PayPal\n",
      "Paid 100 using Crypto\n"
     ]
    }
   ],
   "source": [
    "from abc import ABC, abstractmethod\n",
    "from typing import List\n",
    "\n",
    "class PaymentMethod(ABC):\n",
    "    @abstractmethod\n",
    "    def pay(self, amount: float) -> str:\n",
    "        pass\n",
    "\n",
    "class CreditCard(PaymentMethod):\n",
    "    def pay(self, amount: float) -> str:\n",
    "        return f\"Paid {amount} using credit card\"\n",
    "\n",
    "class PayPal(PaymentMethod):\n",
    "    def pay(self, amount: float) -> str:\n",
    "        return f\"Paid {amount} using PayPal\"\n",
    "\n",
    "class Crypto(PaymentMethod):\n",
    "    def pay(self, amount: float) -> str:\n",
    "        return f\"Paid {amount} using Crypto\"\n",
    "\n",
    "def process_payments(methods: List[PaymentMethod], amount: float) -> None:\n",
    "    for method in methods:\n",
    "        print(method.pay(amount))\n",
    "\n",
    "payment_methods = [CreditCard(), PayPal(), Crypto()]\n",
    "process_payments(payment_methods, 100)\n"
   ]
  },
  {
   "cell_type": "markdown",
   "id": "47587fd2",
   "metadata": {},
   "source": [
    "### **Problem 5: Employee Roles**\n",
    "\n",
    "Create a base class Employee with a method work().\n",
    "\n",
    "Subclasses: Developer, Designer, Manager, each overriding the work() method.\n",
    "\n",
    "**Task:**\n",
    "Write a function that takes a list of Employee objects and prints what each one does at work."
   ]
  },
  {
   "cell_type": "code",
   "execution_count": 12,
   "id": "5d390c2b",
   "metadata": {},
   "outputs": [
    {
     "name": "stdout",
     "output_type": "stream",
     "text": [
      "Developer writes code\n",
      "Designer designs things\n",
      "Manager manages employees\n"
     ]
    }
   ],
   "source": [
    "from abc import ABC, abstractmethod\n",
    "from typing import List\n",
    "\n",
    "class Employee(ABC):\n",
    "    @abstractmethod\n",
    "    def work(self) ->str:\n",
    "        pass\n",
    "\n",
    "class Developer(Employee):\n",
    "    def work(self) -> str:\n",
    "        return f\"Developer writes code\"\n",
    "\n",
    "class Designer(Employee):\n",
    "    def work(self) -> str:\n",
    "        return f\"Designer designs things\"\n",
    "\n",
    "class Manager(Employee):\n",
    "    def work(self) -> str:\n",
    "        return f\"Manager manages employees\"\n",
    "\n",
    "def work_all_employees(employees: List[Employee]) -> None:\n",
    "    for employee in employees:\n",
    "        print(employee.work())\n",
    "\n",
    "employees = [Developer(), Designer(), Manager()]\n",
    "\n",
    "work_all_employees(employees)"
   ]
  }
 ],
 "metadata": {
  "kernelspec": {
   "display_name": "Python 3",
   "language": "python",
   "name": "python3"
  },
  "language_info": {
   "codemirror_mode": {
    "name": "ipython",
    "version": 3
   },
   "file_extension": ".py",
   "mimetype": "text/x-python",
   "name": "python",
   "nbconvert_exporter": "python",
   "pygments_lexer": "ipython3",
   "version": "3.13.2"
  }
 },
 "nbformat": 4,
 "nbformat_minor": 5
}
