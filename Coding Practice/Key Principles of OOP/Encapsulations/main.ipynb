{
 "cells": [
  {
   "cell_type": "markdown",
   "id": "a91f4de4",
   "metadata": {},
   "source": [
    "### **Problem 1: Simple Counter**"
   ]
  },
  {
   "cell_type": "code",
   "execution_count": 14,
   "id": "77a76f3e",
   "metadata": {},
   "outputs": [
    {
     "name": "stdout",
     "output_type": "stream",
     "text": [
      "Initial Counter, The current count is 0\n",
      "Counter after increment, The current count is 3\n"
     ]
    }
   ],
   "source": [
    "class Counter:\n",
    "    def __init__(self):\n",
    "        self.__count = 0\n",
    "    \n",
    "    def increment(self):\n",
    "        self.__count += 1\n",
    "    \n",
    "    def get_count(self):\n",
    "        return f\"The current count is {self.__count}\"\n",
    "\n",
    "counter1 = Counter()\n",
    "print(\"Initial Counter,\",counter1.get_count())\n",
    "counter1.increment()\n",
    "counter1.increment()\n",
    "counter1.increment()\n",
    "print(\"Counter after increment,\",counter1.get_count())\n",
    "# counter1._Counter__count = 100\n",
    "# print(counter1.get_count())\n"
   ]
  },
  {
   "cell_type": "markdown",
   "id": "e0255aa5",
   "metadata": {},
   "source": [
    "### **Problem 2: Basic Bank Account**"
   ]
  },
  {
   "cell_type": "code",
   "execution_count": 42,
   "id": "3ed46124",
   "metadata": {},
   "outputs": [
    {
     "name": "stdout",
     "output_type": "stream",
     "text": [
      "Initial Balance is 25000\n",
      "After deposit, balance is 30000\n",
      "After withdrawl, balance is 20000\n",
      "After another withdrawl, balance is 15000\n"
     ]
    }
   ],
   "source": [
    "class BankAccount:\n",
    "    def __init__ (self, __balance):\n",
    "        self.__balance = __balance\n",
    "    \n",
    "    def deposit (self, amount):\n",
    "        if amount > 0:\n",
    "            self.__balance += amount\n",
    "        else:\n",
    "            print (\"Deposit amount must be greater than 0\")\n",
    "    \n",
    "    def withdrawl (self, amount):\n",
    "        if amount < self.__balance and amount > 0:\n",
    "            self.__balance -= amount\n",
    "        else:\n",
    "            print (\"Insufficient balance\")\n",
    "    \n",
    "    def get_balance (self):\n",
    "        return (f\"{self.__balance}\")\n",
    "\n",
    "account1 = BankAccount(25000)\n",
    "print(f\"Initial Balance is {account1.get_balance()}\")\n",
    "\n",
    "account1.deposit(5000)\n",
    "print(f\"After deposit, balance is {account1.get_balance()}\")\n",
    "\n",
    "account1.withdrawl(10000)\n",
    "print(f\"After withdrawl, balance is {account1.get_balance()}\")\n",
    "\n",
    "account1.withdrawl(5000)\n",
    "print(f\"After another withdrawl, balance is {account1.get_balance()}\")\n"
   ]
  },
  {
   "cell_type": "markdown",
   "id": "2b252373",
   "metadata": {},
   "source": [
    "### **Problem 3: Simple Circle**"
   ]
  },
  {
   "cell_type": "code",
   "execution_count": 51,
   "id": "eafd8243",
   "metadata": {},
   "outputs": [
    {
     "name": "stdout",
     "output_type": "stream",
     "text": [
      "The current radius is 10\n",
      "The area of the circle is 314.0\n",
      "The circumference of the circle is 62.8\n"
     ]
    }
   ],
   "source": [
    "class Circle:\n",
    "    def __init__(self, __radius):\n",
    "        self.__radius = __radius\n",
    "    \n",
    "    def get_radius (self):\n",
    "        print(f\"The current radius is {self.__radius}\")\n",
    "    \n",
    "    def calculate_area(self):\n",
    "        print(f\"The area of the circle is {round(3.14 * (self.__radius ** 2),2)}\")\n",
    "    \n",
    "    def calculate_circumference(self):\n",
    "        print(f\"The circumference of the circle is {round((2 * 3.14 * self.__radius),2)}\")\n",
    "\n",
    "circle1 = Circle(10)\n",
    "circle1.get_radius()\n",
    "circle1.calculate_area()\n",
    "circle1.calculate_circumference()\n",
    "    "
   ]
  },
  {
   "cell_type": "markdown",
   "id": "552a4496",
   "metadata": {},
   "source": [
    "### **Problem 4: Product Inventory**"
   ]
  },
  {
   "cell_type": "code",
   "execution_count": 53,
   "id": "6339d2c5",
   "metadata": {},
   "outputs": [
    {
     "name": "stdout",
     "output_type": "stream",
     "text": [
      "Product: Laptop\n",
      "Initial stock: 10\n",
      "Stock after adding 5: 15\n",
      "Stock after selling 3: 12\n"
     ]
    }
   ],
   "source": [
    "class Product:\n",
    "    def __init__(self, name, stock_count):\n",
    "        \"\"\"\n",
    "        Initialize a Product with a name and stock count.\n",
    "        \n",
    "        Args:\n",
    "            name (str): The product name\n",
    "            stock_count (int): Initial stock quantity\n",
    "        \"\"\"\n",
    "        self.__name = name\n",
    "        self.__stock_count = max(0, stock_count)  # Better way to ensure non-negative\n",
    "    \n",
    "    def get_name(self):\n",
    "        \"\"\"Return the product name.\"\"\"\n",
    "        return self.__name\n",
    "    \n",
    "    def get_stock_count(self):\n",
    "        \"\"\"Return the current stock count.\"\"\"\n",
    "        return self.__stock_count\n",
    "    \n",
    "    def add_stock(self, amount):\n",
    "        \"\"\"\n",
    "        Add stock to the product inventory.\n",
    "        \n",
    "        Args:\n",
    "            amount (int): Amount to add\n",
    "        Returns:\n",
    "            bool: True if successful, False otherwise\n",
    "        \"\"\"\n",
    "        if amount > 0:\n",
    "            self.__stock_count += amount\n",
    "            return True\n",
    "        return False\n",
    "    \n",
    "    def sell_item(self, amount):\n",
    "        \"\"\"\n",
    "        Sell items from stock.\n",
    "        \n",
    "        Args:\n",
    "            amount (int): Amount to sell\n",
    "        Returns:\n",
    "            bool: True if sale successful, False otherwise\n",
    "        \"\"\"\n",
    "        if amount > 0 and amount <= self.__stock_count:  # Fixed condition\n",
    "            self.__stock_count -= amount\n",
    "            return True\n",
    "        return False\n",
    "\n",
    "# Example usage:\n",
    "product = Product(\"Laptop\", 10)\n",
    "print(f\"Product: {product.get_name()}\")\n",
    "print(f\"Initial stock: {product.get_stock_count()}\")\n",
    "\n",
    "if product.add_stock(5):\n",
    "    print(f\"Stock after adding 5: {product.get_stock_count()}\")\n",
    "\n",
    "if product.sell_item(3):\n",
    "    print(f\"Stock after selling 3: {product.get_stock_count()}\")\n",
    "else:\n",
    "    print(\"Sale failed\")"
   ]
  },
  {
   "cell_type": "markdown",
   "id": "c582e367",
   "metadata": {},
   "source": [
    "### **Problem 5: Simple Light Switch**"
   ]
  },
  {
   "cell_type": "code",
   "execution_count": null,
   "id": "e773fab3",
   "metadata": {},
   "outputs": [
    {
     "name": "stdout",
     "output_type": "stream",
     "text": [
      "Current state of the light is False\n",
      "Light is now on\n",
      "Current state of the light is True\n",
      "Light is already on\n",
      "Current state of the light is True\n",
      "Light is now off\n",
      "Current state of the light is False\n",
      "Light is already off\n",
      "Current state of the light is False\n"
     ]
    },
    {
     "data": {
      "text/plain": [
       "False"
      ]
     },
     "execution_count": 59,
     "metadata": {},
     "output_type": "execute_result"
    }
   ],
   "source": [
    "class Light:\n",
    "    def __init__(self):\n",
    "        self.__is_on = False\n",
    "    \n",
    "    def turn_on(self):\n",
    "        if self.__is_on == False:\n",
    "            self.__is_on = True\n",
    "            print(\"Light is now on\")\n",
    "        else:\n",
    "            print(\"Light is already on\")\n",
    "\n",
    "    def turn_off(self):\n",
    "        if self.__is_on == True:\n",
    "            self.__is_on = False\n",
    "            print(\"Light is now off\")\n",
    "        else:\n",
    "            print(\"Light is already off\")\n",
    "\n",
    "    def is_on(self):\n",
    "        return f\"Current state of the light is {self.__is_on}\"\n",
    "\n",
    "\n",
    "light1 = Light()\n",
    "print(light1.is_on())\n",
    "\n",
    "light1.turn_on()\n",
    "print(light1.is_on())\n",
    "\n",
    "light1.turn_on()\n",
    "print(light1.is_on())\n",
    "\n",
    "light1.turn_off()\n",
    "print(light1.is_on())\n",
    "\n",
    "light1.turn_off()\n",
    "print(light1.is_on())\n",
    "\n",
    "# light1._Light__is_on Accessing private variable using name mangling"
   ]
  },
  {
   "cell_type": "markdown",
   "id": "e01aed30",
   "metadata": {},
   "source": [
    "### **Problem 6: Car**"
   ]
  },
  {
   "cell_type": "code",
   "execution_count": 64,
   "id": "daf7f499",
   "metadata": {},
   "outputs": [
    {
     "name": "stdout",
     "output_type": "stream",
     "text": [
      "The current speed is:  0\n",
      "Accelerating. Current speed is 10\n",
      "The current speed is:  10\n",
      "Accelerating. Current speed is 20\n",
      "The current speed is:  20\n"
     ]
    }
   ],
   "source": [
    "class Car:\n",
    "    def __init__ (self, color, speed):\n",
    "        self.color = color # Public attribute\n",
    "        self.__speed = speed # Private attribute\n",
    "    \n",
    "    def accelerate(self):\n",
    "        self.__speed += 10\n",
    "        print(f\"Accelerating. Current speed is {self.__speed}\")\n",
    "    \n",
    "    def get_speed(self):\n",
    "        return self.__speed\n",
    "\n",
    "car1 = Car(\"Red\", 0)\n",
    "print(\"The current speed is: \", car1.get_speed())\n",
    "\n",
    "car1.accelerate()\n",
    "print(\"The current speed is: \", car1.get_speed())\n",
    "\n",
    "car1.accelerate()\n",
    "print(\"The current speed is: \", car1.get_speed())"
   ]
  }
 ],
 "metadata": {
  "kernelspec": {
   "display_name": "Python 3",
   "language": "python",
   "name": "python3"
  },
  "language_info": {
   "codemirror_mode": {
    "name": "ipython",
    "version": 3
   },
   "file_extension": ".py",
   "mimetype": "text/x-python",
   "name": "python",
   "nbconvert_exporter": "python",
   "pygments_lexer": "ipython3",
   "version": "3.13.2"
  }
 },
 "nbformat": 4,
 "nbformat_minor": 5
}
