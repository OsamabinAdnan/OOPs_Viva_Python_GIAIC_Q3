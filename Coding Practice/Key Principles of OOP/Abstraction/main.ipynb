{
 "cells": [
  {
   "cell_type": "markdown",
   "id": "9a25ced1",
   "metadata": {},
   "source": [
    "### **Problem 1: Shape Area Calculator**\n",
    "\n",
    "**Goal:** \n",
    "\n",
    "Create an abstract class Shape with an abstract method area(). Then, implement Circle and Rectangle classes that return the correct area.\n",
    "\n",
    "**🧠 Requirements:**\n",
    "\n",
    "* Use math.pi for the circle.\n",
    "* Implement area() in each class.\n",
    "* Create a list of shapes and print their areas."
   ]
  },
  {
   "cell_type": "code",
   "execution_count": 2,
   "id": "e97d5b2a",
   "metadata": {},
   "outputs": [
    {
     "name": "stdout",
     "output_type": "stream",
     "text": [
      "The area of the circle is 314.16\n",
      "The area of the rectangle is 192.00\n"
     ]
    }
   ],
   "source": [
    "from abc import ABC, abstractmethod\n",
    "import math\n",
    "\n",
    "class Shape(ABC):\n",
    "    @abstractmethod\n",
    "    def area(self):\n",
    "        pass\n",
    "\n",
    "class Circle(Shape):\n",
    "    def __init__(self, radius):\n",
    "        self.radius = radius\n",
    "    \n",
    "    def area(self):\n",
    "        print(f\"The area of the circle is {(math.pi * (self.radius ** 2)):.2f}\")\n",
    "\n",
    "class Rectangle(Shape):\n",
    "    def __init__(self, length, width):\n",
    "        self.length = length\n",
    "        self.width = width\n",
    "    \n",
    "    def area(self):\n",
    "        print(f\"The area of the rectangle is {(self.length * self.width):.2f}\")\n",
    "\n",
    "shapes = [Circle(10), Rectangle(12, 16)]\n",
    "\n",
    "for shape in shapes:\n",
    "    shape.area()"
   ]
  },
  {
   "cell_type": "markdown",
   "id": "a853f778",
   "metadata": {},
   "source": [
    "### **Problem 2: Animal Sounds**\n",
    "\n",
    "**Goal:**\n",
    "\n",
    "Create an abstract class Animal with an abstract method make_sound(). Then create 3 animals (Dog, Cat, Cow) that each return their unique sound.\n",
    "\n",
    "**🧠 Requirements:**\n",
    "\n",
    "* Use a loop to call make_sound() on a list of different animal instances."
   ]
  },
  {
   "cell_type": "code",
   "execution_count": 3,
   "id": "10729381",
   "metadata": {},
   "outputs": [
    {
     "name": "stdout",
     "output_type": "stream",
     "text": [
      "Dog says Woof!\n",
      "Cat says Meow!\n",
      "Cow says Bohn!\n"
     ]
    }
   ],
   "source": [
    "from abc import ABC, abstractmethod\n",
    "\n",
    "class Animal(ABC):\n",
    "\n",
    "    @abstractmethod\n",
    "    def make_sound(self):\n",
    "        pass\n",
    "\n",
    "class Dog(Animal):\n",
    "    def make_sound(self):\n",
    "        print(\"Dog says Woof!\")\n",
    "\n",
    "class Cat(Animal):\n",
    "    def make_sound(self):\n",
    "        print(\"Cat says Meow!\")\n",
    "\n",
    "class Cow(Animal):\n",
    "    def make_sound(self):\n",
    "        print(\"Cow says Bohn!\")\n",
    "\n",
    "animals = [Dog(), Cat(), Cow()]\n",
    "\n",
    "for animal in animals:\n",
    "    animal.make_sound()"
   ]
  },
  {
   "cell_type": "markdown",
   "id": "3404c167",
   "metadata": {},
   "source": [
    "### **Problem 3: Notification System**\n",
    "\n",
    "**Goal:**\n",
    "\n",
    "Create an abstract class Notifier with an abstract method send(message). Implement EmailNotifier and SMSNotifier.\n",
    "\n",
    "**🧠 Requirements:**\n",
    "\n",
    "* The send() method should print messages like:\n",
    "* \"Sending Email: Hello!\"\n",
    "* \"Sending SMS: Hello!\""
   ]
  },
  {
   "cell_type": "code",
   "execution_count": 4,
   "id": "27dd1731",
   "metadata": {},
   "outputs": [
    {
     "name": "stdout",
     "output_type": "stream",
     "text": [
      "Sending email: Hello!\n",
      "Sending SMS: Hello!...\n"
     ]
    }
   ],
   "source": [
    "from abc import ABC, abstractmethod\n",
    "\n",
    "class Notifier(ABC):\n",
    "\n",
    "    @abstractmethod\n",
    "    def send_message(self, message):\n",
    "        pass\n",
    "\n",
    "class EmailNotifier(Notifier):\n",
    "    def send_message(self, message):\n",
    "        print(f\"Sending email: {message}\")\n",
    "    \n",
    "class SMSNotifier(Notifier):\n",
    "    def send_message(self,message):\n",
    "        print(f\"Sending SMS: {message}...\")\n",
    "\n",
    "notifiers = [EmailNotifier(), SMSNotifier()]\n",
    "\n",
    "for notifier in notifiers:\n",
    "    notifier.send_message('Hello!')"
   ]
  },
  {
   "cell_type": "markdown",
   "id": "40e1b25f",
   "metadata": {},
   "source": [
    "### **Problem 4: Employee Salary Calculator**\n",
    "\n",
    "**Goal:**\n",
    "\n",
    "Create an abstract class Employee with an abstract method calculate_salary().\n",
    "\n",
    "**🧠 Requirements:**\n",
    "\n",
    "* FullTimeEmployee: Base salary + bonus.\n",
    "* PartTimeEmployee: Hourly rate × hours worked.\n",
    "* Print salaries for a list of employees."
   ]
  },
  {
   "cell_type": "code",
   "execution_count": 6,
   "id": "669c92d2",
   "metadata": {},
   "outputs": [
    {
     "name": "stdout",
     "output_type": "stream",
     "text": [
      "Full-time employee salary: 60000\n",
      "Part-time employee salary: 4000\n"
     ]
    }
   ],
   "source": [
    "from abc import ABC, abstractmethod\n",
    "\n",
    "class Employee(ABC):\n",
    "\n",
    "    @abstractmethod\n",
    "    def calculate_salary(self):\n",
    "        pass\n",
    "\n",
    "class FullTimeEmployee(Employee):\n",
    "    def __init__(self, salary, bonus):\n",
    "        self.salary = salary\n",
    "        self.bonus = bonus\n",
    "    \n",
    "    def calculate_salary(self):\n",
    "        return (f\"Full-time employee salary: {self.salary + self.bonus}\")\n",
    "\n",
    "class PartTimeEmployee(Employee):\n",
    "    def __init__(self, hourly_rate, hours_worked):\n",
    "        self.hourly_rate = hourly_rate\n",
    "        self.hours_worked = hours_worked\n",
    "    \n",
    "    def calculate_salary(self):\n",
    "        return (f\"Part-time employee salary: {self.hourly_rate * self.hours_worked}\")\n",
    "\n",
    "employees = [FullTimeEmployee(50000, 10000), PartTimeEmployee(400, 10)]\n",
    "\n",
    "for employee in employees:\n",
    "    print(employee.calculate_salary())"
   ]
  },
  {
   "cell_type": "markdown",
   "id": "326a5e2f",
   "metadata": {},
   "source": [
    "### **Problem 5: Payment Method**\n",
    "\n",
    "**Goal:**\n",
    "\n",
    "Create an abstract class PaymentMethod with a method pay(amount).\n",
    "\n",
    "**🧠 Requirements:**\n",
    "\n",
    "* Implement CreditCard, PayPal, and BankTransfer.\n",
    "* Call pay() and print something like \"Paid $100 using Credit Card.\""
   ]
  },
  {
   "cell_type": "code",
   "execution_count": 7,
   "id": "0a04a644",
   "metadata": {},
   "outputs": [
    {
     "name": "stdout",
     "output_type": "stream",
     "text": [
      "Paid $500 using Credit Card\n",
      "Paid $500 using PayPal\n",
      "Paid $500 using Bank Transfer\n"
     ]
    }
   ],
   "source": [
    "from abc import ABC, abstractmethod\n",
    "\n",
    "class PaymentMethod(ABC):\n",
    "\n",
    "    @abstractmethod\n",
    "    def pay(self, amount):\n",
    "        pass\n",
    "\n",
    "class CreditCard(PaymentMethod):\n",
    "    def __init__ (self, card_number, expiration_date, cvv):\n",
    "        self.card_number = card_number\n",
    "        self.expiration_date = expiration_date\n",
    "        self.cvv = cvv\n",
    "    \n",
    "    def pay(self, amount):\n",
    "        return f\"Paid ${amount} using Credit Card\"\n",
    "\n",
    "class PayPal (PaymentMethod):\n",
    "    def __init__(self, email, password):\n",
    "        self.email = email\n",
    "        self.password = password\n",
    "    \n",
    "    def pay(self, amount):\n",
    "        return f\"Paid ${amount} using PayPal\"\n",
    "\n",
    "class BankTransfer(PaymentMethod):\n",
    "    def __init__ (self, account_name, account_number):\n",
    "        self.account_name = account_name\n",
    "        self.account_number = account_number\n",
    "    \n",
    "    def pay(self, amount):\n",
    "        return f\"Paid ${amount} using Bank Transfer\"\n",
    "\n",
    "payments = [CreditCard(\"1234-5678-9012-3456\", \"12/25\", \"123\"), PayPal(\"example@gmail.com\", \"password\"), BankTransfer(\"John Doe\", \"ACC123456789\")]\n",
    "\n",
    "for payment in payments:\n",
    "    print(payment.pay(500))"
   ]
  }
 ],
 "metadata": {
  "kernelspec": {
   "display_name": "Python 3",
   "language": "python",
   "name": "python3"
  },
  "language_info": {
   "codemirror_mode": {
    "name": "ipython",
    "version": 3
   },
   "file_extension": ".py",
   "mimetype": "text/x-python",
   "name": "python",
   "nbconvert_exporter": "python",
   "pygments_lexer": "ipython3",
   "version": "3.13.2"
  }
 },
 "nbformat": 4,
 "nbformat_minor": 5
}
