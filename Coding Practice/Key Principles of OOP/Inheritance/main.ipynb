{
 "cells": [
  {
   "cell_type": "markdown",
   "id": "20d3183f",
   "metadata": {},
   "source": [
    "### **Problem 1: Animal Inheritance**\n",
    "\n",
    "* Create a base class Animal with a method make_sound().\n",
    "* Inherit Dog and Cat classes from Animal, and override make_sound() in each."
   ]
  },
  {
   "cell_type": "code",
   "execution_count": 1,
   "id": "cb8b4ada",
   "metadata": {},
   "outputs": [
    {
     "name": "stdout",
     "output_type": "stream",
     "text": [
      "Buddy says Woof!, his age is 3\n",
      "Whiskers says Meow!, his age is 2\n"
     ]
    }
   ],
   "source": [
    "class Animal:\n",
    "    def __init__(self, name, age):\n",
    "        self.name = name\n",
    "        self.age = age\n",
    "    \n",
    "    def make_sound(self):\n",
    "        return \"Generic animal sound\"\n",
    "\n",
    "class Dog(Animal):\n",
    "    def __init__(self, name, age):\n",
    "        super().__init__(name, age)\n",
    "    \n",
    "    def make_sound(self):\n",
    "        return f\"{self.name} says Woof!, his age is {self.age}\"\n",
    "    \n",
    "class Cat(Animal):\n",
    "    def __init__(self, name, age):\n",
    "        super().__init__(name, age)\n",
    "    \n",
    "    def make_sound(self):\n",
    "        return f\"{self.name} says Meow!, his age is {self.age}\"\n",
    "    \n",
    "dog = Dog(\"Buddy\", 3)\n",
    "cat = Cat(\"Whiskers\", 2)\n",
    "\n",
    "print(dog.make_sound())\n",
    "print(cat.make_sound())"
   ]
  },
  {
   "cell_type": "markdown",
   "id": "13acaa20",
   "metadata": {},
   "source": [
    "### **Problem 2: Shape Area Calculation**\n",
    "\n",
    "* Create a base class Shape with a method area().\n",
    "* Create subclasses Rectangle and Circle with their own implementation of area()."
   ]
  },
  {
   "cell_type": "code",
   "execution_count": null,
   "id": "86698c75",
   "metadata": {},
   "outputs": [
    {
     "name": "stdout",
     "output_type": "stream",
     "text": [
      "The area of the rectangle is 12.00\n",
      "The area of the circle is 314.00\n"
     ]
    }
   ],
   "source": [
    "class Shape:\n",
    "    def __init__(self):\n",
    "        pass\n",
    "    def area(self):\n",
    "        raise NotImplementedError(\"Subclasses must implement this method\")\n",
    "\n",
    "class Rectangle(Shape):\n",
    "    def __init__(self, length, width):\n",
    "        self.length = length\n",
    "        self.width = width\n",
    "    \n",
    "    def area(self):\n",
    "        return f\"The area of the rectangle is {(self.length * self.width):.2f}\"\n",
    "\n",
    "class Circle(Shape):\n",
    "    def __init__(self, radius):\n",
    "        self.radius = radius\n",
    "    \n",
    "    def area(self):\n",
    "        return f\"The area of the circle is {(3.14 * (self.radius ** 2)):.2f}\"\n",
    "\n",
    "rec1 = Rectangle(3, 4)\n",
    "print(rec1.area())\n",
    "\n",
    "circle1 = Circle(10)\n",
    "print(circle1.area())"
   ]
  },
  {
   "cell_type": "markdown",
   "id": "2475c60b",
   "metadata": {},
   "source": [
    "### **Problem 3: Employee Hierarchy**\n",
    "\n",
    "* Create a base class Employee with name and salary.\n",
    "* Create a subclass Manager with an extra method display_team_size()."
   ]
  },
  {
   "cell_type": "code",
   "execution_count": 7,
   "id": "3f1f4f06",
   "metadata": {},
   "outputs": [
    {
     "name": "stdout",
     "output_type": "stream",
     "text": [
      "The team size of Sales is 20\n",
      "John, Age: 30, Dept: Sales, Salary: $180000\n"
     ]
    }
   ],
   "source": [
    "class Employee:\n",
    "    def __init__(self, name, age, department, salary):\n",
    "        self.name = name\n",
    "        self.age = age\n",
    "        self.department = department\n",
    "        self.salary = salary\n",
    "\n",
    "class Manager(Employee):\n",
    "    def __init__(self, name, age, department, salary):\n",
    "        super().__init__(name, age, department, salary)\n",
    "    \n",
    "    def display_team_size(self, team_size):\n",
    "        return f\"The team size of {self.department} is {team_size}\"\n",
    "    \n",
    "    def get_info(self):\n",
    "        return f\"{self.name}, Age: {self.age}, Dept: {self.department}, Salary: ${self.salary}\"\n",
    "\n",
    "\n",
    "man1 = Manager(\"John\", 30, \"Sales\", 180000)\n",
    "print(man1.display_team_size(20))\n",
    "print(man1.get_info())"
   ]
  },
  {
   "cell_type": "markdown",
   "id": "a3e1e21c",
   "metadata": {},
   "source": [
    "### **Problem 4: Bank Account Types**\n",
    "\n",
    "**Base class:**\n",
    "\n",
    "* BankAccount with methods deposit() and withdraw().\n",
    "\n",
    "**Subclasses:**\n",
    "\n",
    "* SavingsAccount: add interest_rate\n",
    "* CheckingAccount: add overdraft_limit"
   ]
  },
  {
   "cell_type": "code",
   "execution_count": 2,
   "id": "2f2ebfc7",
   "metadata": {},
   "outputs": [
    {
     "name": "stdout",
     "output_type": "stream",
     "text": [
      "2050.0\n",
      "2000\n"
     ]
    }
   ],
   "source": [
    "from abc import ABC, abstractmethod\n",
    "\n",
    "class BankAccount(ABC):\n",
    "    @abstractmethod\n",
    "    def deposit(self, amount):\n",
    "        pass\n",
    "\n",
    "    @abstractmethod\n",
    "    def withdraw(self, amount):\n",
    "        pass\n",
    "\n",
    "class SavingAccount(BankAccount):\n",
    "    def __init__(self, account_number, balance, interest_rate):\n",
    "        self.account_number = account_number\n",
    "        self.balance = balance\n",
    "        self.interest_rate = interest_rate\n",
    "    \n",
    "    def deposit(self, amount):\n",
    "        amount += amount * (self.interest_rate / 100)\n",
    "        self.balance += amount\n",
    "    \n",
    "    def withdraw(self, amount):\n",
    "        if amount > self.balance:\n",
    "            return \"Insufficient funds\"\n",
    "        self.balance -= amount\n",
    "\n",
    "class CheckingAccount(BankAccount):\n",
    "    def __init__(self, account_number, balance):\n",
    "        self.account_number = account_number\n",
    "        self.balance = balance\n",
    "        self.overdraft_limit = 0  # Default value\n",
    "    \n",
    "    def deposit(self, amount):\n",
    "        self.balance += amount\n",
    "    \n",
    "    def withdraw(self, amount):\n",
    "        self.balance -= amount\n",
    "    \n",
    "    def add_overdraft_limit(self, overdraft_limit):\n",
    "        self.overdraft_limit = overdraft_limit\n",
    "    \n",
    "    def check_overdraft(self):\n",
    "        if self.balance < -self.overdraft_limit:\n",
    "            return \"Overdraft limit exceeded\"\n",
    "        else:\n",
    "            return \"No overdraft limit exceeded\"\n",
    "\n",
    "# Test\n",
    "saving1 = SavingAccount(\"123456\", 1000, 5)\n",
    "saving1.deposit(1000)  # 1000 + 5% = 1050 added\n",
    "print(saving1.balance)  # Expected: 2050.0\n",
    "\n",
    "checking1 = CheckingAccount(\"789012\", 1000)\n",
    "checking1.deposit(1000)\n",
    "checking1.add_overdraft_limit(500)\n",
    "print(checking1.balance)  # Expected: 2000\n"
   ]
  },
  {
   "cell_type": "markdown",
   "id": "ce5748d3",
   "metadata": {},
   "source": [
    "### **Problem 5: Vehicle Polymorphism**\n",
    "\n",
    "* `Base class` Vehicle with a method drive().\n",
    "\n",
    "* `Subclasses` Bike, Car, Truck with their own implementation of drive().\n",
    "\n",
    "* Create a list of vehicles and loop through, calling drive()—demonstrate polymorphism."
   ]
  },
  {
   "cell_type": "code",
   "execution_count": 5,
   "id": "2f1ccb6f",
   "metadata": {},
   "outputs": [
    {
     "name": "stdout",
     "output_type": "stream",
     "text": [
      "Honda CBR of 2022 is riding\n",
      "Toyota Camry of 2022 is driving\n",
      "Ford F-150 of 2022 is driving\n"
     ]
    }
   ],
   "source": [
    "class Vehicle:\n",
    "    def __init__(self, make, model, year):\n",
    "        self.make = make\n",
    "        self.model = model\n",
    "        self.year = year\n",
    "    \n",
    "    def drive(self):\n",
    "        return f\"{self.make} {self.model} is driving\"\n",
    "\n",
    "class Bike(Vehicle):\n",
    "    def __init__ (self, make, model, year):\n",
    "        super().__init__(make, model, year)\n",
    "    \n",
    "    def drive(self):\n",
    "        return f\"{self.make} {self.model} of {self.year} is riding\"\n",
    "\n",
    "class Car(Vehicle):\n",
    "    def __init__ (self, make, model, year):\n",
    "        super().__init__(make, model, year)\n",
    "    \n",
    "    def drive(self):\n",
    "        return f\"{self.make} {self.model} of {self.year} is driving\"\n",
    "\n",
    "class Truck(Vehicle):\n",
    "    def __init__ (self, make, model, year):\n",
    "        super().__init__(make, model, year)\n",
    "    \n",
    "    def drive(self):\n",
    "        return f\"{self.make} {self.model} of {self.year} is driving\"\n",
    "\n",
    "vehicles = [Bike(\"Honda\", \"CBR\", 2022), Car(\"Toyota\", \"Camry\", 2022), Truck(\"Ford\", \"F-150\", 2022)]\n",
    "\n",
    "for vehicle in vehicles:\n",
    "    print(vehicle.drive())"
   ]
  }
 ],
 "metadata": {
  "kernelspec": {
   "display_name": "Python 3",
   "language": "python",
   "name": "python3"
  },
  "language_info": {
   "codemirror_mode": {
    "name": "ipython",
    "version": 3
   },
   "file_extension": ".py",
   "mimetype": "text/x-python",
   "name": "python",
   "nbconvert_exporter": "python",
   "pygments_lexer": "ipython3",
   "version": "3.13.2"
  }
 },
 "nbformat": 4,
 "nbformat_minor": 5
}
