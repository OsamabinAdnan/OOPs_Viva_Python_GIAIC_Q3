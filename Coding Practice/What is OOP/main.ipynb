{
 "cells": [
  {
   "cell_type": "markdown",
   "id": "b19c35a6",
   "metadata": {},
   "source": [
    "### **Problem 1: Basic Car Class**"
   ]
  },
  {
   "cell_type": "code",
   "execution_count": 3,
   "id": "a6c66dee",
   "metadata": {},
   "outputs": [
    {
     "name": "stdout",
     "output_type": "stream",
     "text": [
      "Speed has been increased 50 km/h\n",
      "Speed has been decreased by 20 km/h, current speed is 30 km/h\n",
      "Model: Honda Accord\n",
      "Color: Grey Metallic\n",
      "Current Speed: 30 km//h\n"
     ]
    }
   ],
   "source": [
    "class Car:\n",
    "    def __init__(self, model:str, color:str):\n",
    "        self.model = model\n",
    "        self.color = color\n",
    "        self.speed:int = 0\n",
    "    \n",
    "    def accelarate (self, speed_increase):\n",
    "        self.speed += speed_increase\n",
    "        print(f\"Speed has been increased {self.speed} km/h\")\n",
    "    \n",
    "    def brake(self, speed_decrease):\n",
    "        self.speed -= speed_decrease\n",
    "        print(f\"Speed has been decreased by {speed_decrease} km/h, current speed is {self.speed} km/h\")\n",
    "    \n",
    "    def display_info(self):\n",
    "        print(f\"Model: {self.model}\")\n",
    "        print(f\"Color: {self.color}\")\n",
    "        print(f\"Current Speed: {self.speed} km//h\")\n",
    "\n",
    "car1 = Car(\"Honda Accord\", \"Grey Metallic\")\n",
    "car1.accelarate(50)\n",
    "car1.brake(20)\n",
    "car1.display_info()"
   ]
  },
  {
   "cell_type": "markdown",
   "id": "dc71ca08",
   "metadata": {},
   "source": [
    "### **Problem 2: Simple Dog Class**"
   ]
  },
  {
   "cell_type": "code",
   "execution_count": 8,
   "id": "6c17d2f0",
   "metadata": {},
   "outputs": [
    {
     "name": "stdout",
     "output_type": "stream",
     "text": [
      "Fido\n",
      "German Shepherd\n",
      "3\n",
      "Fido says Woof!\n",
      "Happy Birthday Fido!, You are now 4 years old\n"
     ]
    }
   ],
   "source": [
    "class Dog:\n",
    "    def __init__(self, name, breed, age):\n",
    "        self.name = name\n",
    "        self.breed = breed\n",
    "        self.age = age\n",
    "    \n",
    "    def bark (self):\n",
    "        print(f\"{self.name} says Woof!\")\n",
    "    \n",
    "    def celebrate_birthday(self):\n",
    "        self.age += 1\n",
    "        print(f\"Happy Birthday {self.name}!, You are now {self.age} years old\")\n",
    "\n",
    "dog1 = Dog(\"Fido\", \"German Shepherd\", 3)\n",
    "print(dog1.name)\n",
    "print(dog1.breed)\n",
    "print(dog1.age)\n",
    "dog1.bark()\n",
    "dog1.celebrate_birthday()"
   ]
  },
  {
   "cell_type": "markdown",
   "id": "7eb2d32d",
   "metadata": {},
   "source": [
    "### **Problem 3: Basic Bank Account Class**"
   ]
  },
  {
   "cell_type": "code",
   "execution_count": 12,
   "id": "602adea1",
   "metadata": {},
   "outputs": [
    {
     "name": "stdout",
     "output_type": "stream",
     "text": [
      "Deposit of 10000 successful. Current balance is 10000.0\n",
      "Withdrawal of 2000 successful. Current balance is 8000.0\n",
      "Current Balance is: 8000.0\n"
     ]
    }
   ],
   "source": [
    "class BankAccount:\n",
    "    def __init__(self, account_number:str, owner_name:str):\n",
    "        self.account_number = account_number\n",
    "        self.owner_name = owner_name\n",
    "        self.balance: float = 0.0\n",
    "    \n",
    "    def deposite (self, amount):\n",
    "        self.balance += amount\n",
    "        print(f\"Deposit of {amount} successful. Current balance is {self.balance}\")\n",
    "    \n",
    "    def withdraw (self, amount):\n",
    "        if amount < self.balance:\n",
    "            self.balance -= amount\n",
    "            print(f\"Withdrawal of {amount} successful. Current balance is {self.balance}\")\n",
    "        else:\n",
    "            print(f\"Insufficient balance. Current balance is {self.balance}\")\n",
    "    def display_info(self):\n",
    "        print(f\"Current Balance is: {self.balance}\")\n",
    "\n",
    "acc1 = BankAccount(\"ACC123\", \"John Cena\")\n",
    "acc1.deposite(10000)\n",
    "acc1.withdraw(2000)\n",
    "acc1.display_info()"
   ]
  },
  {
   "cell_type": "markdown",
   "id": "58e10666",
   "metadata": {},
   "source": [
    "### **Problem 4: Simple Rectangle Class**"
   ]
  },
  {
   "cell_type": "code",
   "execution_count": 20,
   "id": "51875b16",
   "metadata": {},
   "outputs": [
    {
     "name": "stdout",
     "output_type": "stream",
     "text": [
      "Area : 50\n",
      "Perimeter : 30\n"
     ]
    }
   ],
   "source": [
    "class Rectangle:\n",
    "    def __init__(self, length, width):\n",
    "        self.length = length\n",
    "        self.width = width\n",
    "\n",
    "        if self.width < 0:\n",
    "            self.width = 0\n",
    "        if self.length < 0:\n",
    "            self.length = 0\n",
    "    \n",
    "    def calculate_area(self):\n",
    "        print (\"Area :\",self.length * self.width)\n",
    "    \n",
    "    def calculate_perimeter(self):\n",
    "        print (\"Perimeter :\", 2 * (self.length + self.width))\n",
    "\n",
    "rec1 = Rectangle(5, 10)\n",
    "rec1.calculate_area()\n",
    "rec1.calculate_perimeter()\n"
   ]
  },
  {
   "cell_type": "markdown",
   "id": "7647d00b",
   "metadata": {},
   "source": [
    "### **Problem 5: Basic Employee Class**"
   ]
  },
  {
   "cell_type": "code",
   "execution_count": 32,
   "id": "49b9a755",
   "metadata": {},
   "outputs": [
    {
     "name": "stdout",
     "output_type": "stream",
     "text": [
      "Annual salary of Tom Cruse is 1200000.0\n",
      "Salary has been increased by 10% to 110000.0\n",
      "\n",
      "Employee Details\n",
      "Name: Tom Cruse\n",
      "Employee ID: EMP001\n",
      "Salary: 110000.0\n",
      "Department: IT\n"
     ]
    }
   ],
   "source": [
    "class Employee:\n",
    "    def __init__ (self, name:str, employee_id:str, salary:float, department:str):\n",
    "        self.name = name\n",
    "        self.employee_id = employee_id\n",
    "        self.salary = salary\n",
    "        self.department = department\n",
    "    \n",
    "    def get_annual_salary(self):\n",
    "        print(f\"Annual salary of {self.name} is {self.salary * 12}\")\n",
    "    \n",
    "    def give_raise(self, percentage):\n",
    "        self.salary +=  (self.salary * percentage/ 100)\n",
    "        print(f\"Salary has been increased by {percentage}% to {self.salary}\")\n",
    "    \n",
    "    def display_employee_details(self):\n",
    "        print(\"\\nEmployee Details\")\n",
    "        print(f\"Name: {self.name}\")\n",
    "        print(f\"Employee ID: {self.employee_id}\")\n",
    "        print(f\"Salary: {self.salary}\")\n",
    "        print(f\"Department: {self.department}\")\n",
    "\n",
    "emp1 = Employee(\"Tom Cruse\", \"EMP001\", 100000.0, \"IT\")\n",
    "emp1.get_annual_salary()\n",
    "emp1.give_raise(10)\n",
    "emp1.display_employee_details()"
   ]
  },
  {
   "cell_type": "markdown",
   "id": "7ae8260e",
   "metadata": {},
   "source": [
    "### **Problem 6: Simple Book Class**"
   ]
  },
  {
   "cell_type": "code",
   "execution_count": 42,
   "id": "21d3d51e",
   "metadata": {},
   "outputs": [
    {
     "name": "stdout",
     "output_type": "stream",
     "text": [
      "The Great Gatsby is Available\n",
      "The Great Gatsby has been borrowed\n",
      "The Great Gatsby is Borrowed\n",
      "The Great Gatsby is already borrowed\n",
      "The Great Gatsby is Borrowed\n",
      "The Great Gatsby has been returned\n",
      "The Great Gatsby is Available\n"
     ]
    }
   ],
   "source": [
    "class Book:\n",
    "    def __init__ (self, title:str, author:str, isbn:str):\n",
    "        self.title = title\n",
    "        self.author = author\n",
    "        self.isbn = isbn\n",
    "        self.is_borrowed = False\n",
    "    \n",
    "    def borrow(self):\n",
    "        if not self.is_borrowed:\n",
    "            self.is_borrowed = True\n",
    "            print(f\"{self.title} has been borrowed\")\n",
    "        else:\n",
    "            print(f\"{self.title} is already borrowed\")\n",
    "    \n",
    "    def return_book(self):\n",
    "        if self.is_borrowed:\n",
    "            self.is_borrowed = False\n",
    "            print(f\"{self.title} has been returned\")\n",
    "        else:\n",
    "            print(f\"{self.title} is already returned or not borrowed\")\n",
    "    \n",
    "    def get_status(self):\n",
    "        status = \"Borrowed\" if self.is_borrowed else \"Available\"\n",
    "        print(f\"{self.title} is {status}\")\n",
    "\n",
    "book1 =  Book(\"The Great Gatsby\", \"F. Scott Fitzgerald\", \"978-3-16-148410-0\")\n",
    "book1.get_status()\n",
    "\n",
    "book1.borrow()\n",
    "\n",
    "book1.get_status()\n",
    "\n",
    "book1.borrow()\n",
    "\n",
    "book1.get_status()\n",
    "\n",
    "book1.return_book()\n",
    "\n",
    "book1.get_status()"
   ]
  }
 ],
 "metadata": {
  "kernelspec": {
   "display_name": "Python 3",
   "language": "python",
   "name": "python3"
  },
  "language_info": {
   "codemirror_mode": {
    "name": "ipython",
    "version": 3
   },
   "file_extension": ".py",
   "mimetype": "text/x-python",
   "name": "python",
   "nbconvert_exporter": "python",
   "pygments_lexer": "ipython3",
   "version": "3.13.2"
  }
 },
 "nbformat": 4,
 "nbformat_minor": 5
}
