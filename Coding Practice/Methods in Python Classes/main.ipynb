{
 "cells": [
  {
   "cell_type": "markdown",
   "id": "a10f2970",
   "metadata": {},
   "source": [
    "### **Problem 1:**\n",
    "\n",
    "Create a Book class with:\n",
    "\n",
    "Instance method: get_info() to return title and author.\n",
    "\n",
    "Class variable: book_type = \"Printed\"\n",
    "\n",
    "Class method: get_book_type()"
   ]
  },
  {
   "cell_type": "code",
   "execution_count": 2,
   "id": "ff142f8d",
   "metadata": {},
   "outputs": [
    {
     "name": "stdout",
     "output_type": "stream",
     "text": [
      "Title: The Great Gatsby\n",
      "Author: F. Scott Fitzgerald\n",
      "Title: To Kill a Mockingbird\n",
      "Author: Harper Lee\n",
      "Book Type: Printed\n"
     ]
    }
   ],
   "source": [
    "class Book:\n",
    "    book_type = \"Printed\"\n",
    "    def __init__(self, title, author):\n",
    "        self.title = title\n",
    "        self.author = author\n",
    "    def get_info(self):\n",
    "        print(\"Title:\", self.title)\n",
    "        print(\"Author:\", self.author)\n",
    "    @classmethod\n",
    "    def get_book_type(cls):\n",
    "        print(\"Book Type:\", cls.book_type)\n",
    "\n",
    "book1 = Book(\"The Great Gatsby\", \"F. Scott Fitzgerald\")\n",
    "book2 = Book(\"To Kill a Mockingbird\", \"Harper Lee\")\n",
    "\n",
    "book1.get_info()\n",
    "book2.get_info()\n",
    "\n",
    "Book.get_book_type()"
   ]
  },
  {
   "cell_type": "markdown",
   "id": "d8dc9de2",
   "metadata": {},
   "source": [
    "### **Problem 2:**\n",
    "\n",
    "Create a Circle class with:\n",
    "\n",
    "Static method to compute area from a given radius.\n",
    "\n",
    "Class method to return class info like \"Circle uses π\"."
   ]
  },
  {
   "cell_type": "code",
   "execution_count": 7,
   "id": "c8d2c8c6",
   "metadata": {},
   "outputs": [
    {
     "name": "stdout",
     "output_type": "stream",
     "text": [
      "314.0\n",
      "Circle uses π\n"
     ]
    }
   ],
   "source": [
    "class Circle:\n",
    "    @staticmethod\n",
    "    def area(radius):\n",
    "        return (3.14 * radius ** 2)\n",
    "    \n",
    "    @classmethod\n",
    "    def class_info(cls):\n",
    "        return \"Circle uses π\"\n",
    "\n",
    "circle1 = Circle()\n",
    "print(circle1.area(10))\n",
    "\n",
    "print(circle1.class_info())\n"
   ]
  },
  {
   "cell_type": "markdown",
   "id": "a903c9a8",
   "metadata": {},
   "source": [
    "### **Problem 3:**\n",
    "\n",
    "Add a __str__() method to the above classes to print readable details."
   ]
  },
  {
   "cell_type": "code",
   "execution_count": 12,
   "id": "54cd84de",
   "metadata": {},
   "outputs": [
    {
     "name": "stdout",
     "output_type": "stream",
     "text": [
      "314.0\n",
      "Circle uses π\n",
      "This is circle class\n"
     ]
    }
   ],
   "source": [
    "class Circle:\n",
    "    @staticmethod\n",
    "    def area(radius):\n",
    "        return (3.14 * radius ** 2)\n",
    "    \n",
    "    @classmethod\n",
    "    def class_info(cls):\n",
    "        return \"Circle uses π\"\n",
    "    \n",
    "    def __str__(self):\n",
    "        return \"This is circle class\"\n",
    "\n",
    "circle1 = Circle()\n",
    "print(circle1.area(10))\n",
    "print(circle1.class_info())\n",
    "print(circle1) #OR print(circle1.__str__())\n"
   ]
  },
  {
   "cell_type": "markdown",
   "id": "7bb6128c",
   "metadata": {},
   "source": [
    "### **Problem 4:**\n",
    "\n",
    "Create a Student class with:\n",
    "\n",
    "__init__ method to store name and marks.\n",
    "\n",
    "Instance method to calculate grade.\n",
    "\n",
    "Class variable for passing marks.\n",
    "\n",
    "Class method to change passing marks."
   ]
  },
  {
   "cell_type": "code",
   "execution_count": 21,
   "id": "d9887e7b",
   "metadata": {},
   "outputs": [
    {
     "name": "stdout",
     "output_type": "stream",
     "text": [
      "A\n",
      "Fail\n",
      "A+\n",
      "After change passing marks to 40\n",
      "A\n",
      "D\n",
      "A+\n"
     ]
    }
   ],
   "source": [
    "class Student:\n",
    "    passing_marks = 50\n",
    "    def __init__(self, name, marks):\n",
    "        self.name = name\n",
    "        self.marks = marks\n",
    "    def calculate_grade(self):\n",
    "        if self.marks < self.passing_marks:\n",
    "            return \"Fail\"\n",
    "        elif self.marks >= 88:\n",
    "            return \"A+\"\n",
    "        elif self.marks >= 80:\n",
    "            return \"A\"\n",
    "        elif self.marks >= 70:\n",
    "            return \"B\"\n",
    "        elif self.marks >= 60:\n",
    "            return \"C\"\n",
    "        else:\n",
    "            return \"D\"\n",
    "    \n",
    "    @classmethod\n",
    "    def change_passing_marks(cls, new_marks):\n",
    "        cls.passing_marks = new_marks\n",
    "\n",
    "student1 = Student(\"John\", 85)\n",
    "student2 = Student(\"Jane\", 45)\n",
    "student3 = Student(\"Bob\", 95)\n",
    "\n",
    "print(student1.calculate_grade())\n",
    "print(student2.calculate_grade())\n",
    "print(student3.calculate_grade())\n",
    "\n",
    "Student.change_passing_marks(40)\n",
    "\n",
    "print('After change passing marks to 40')\n",
    "\n",
    "print(student1.calculate_grade())\n",
    "print(student2.calculate_grade())\n",
    "print(student3.calculate_grade())\n"
   ]
  },
  {
   "cell_type": "markdown",
   "id": "b07280fd",
   "metadata": {},
   "source": [
    "### **Problem 5:**\n",
    "\n",
    "Create a Counter class that:\n",
    "\n",
    "Has a private count variable.\n",
    "\n",
    "Has an instance method to increase it.\n",
    "\n",
    "Has a static method to check if a number is even."
   ]
  },
  {
   "cell_type": "code",
   "execution_count": 29,
   "id": "2af9e964",
   "metadata": {},
   "outputs": [
    {
     "name": "stdout",
     "output_type": "stream",
     "text": [
      "Odd\n"
     ]
    }
   ],
   "source": [
    "class Counter:\n",
    "    __count = 0  # private class variable\n",
    "\n",
    "    def __init__(self):\n",
    "        pass  # no auto-increment on object creation\n",
    "\n",
    "    def increase(self):\n",
    "        Counter.__count += 1\n",
    "\n",
    "    @staticmethod\n",
    "    def even_or_odd():\n",
    "        if Counter.__count % 2 == 0:\n",
    "            return 'Even'\n",
    "        else:\n",
    "            return 'Odd'\n",
    "\n",
    "c1 = Counter()\n",
    "c1.increase()  # count = 1\n",
    "\n",
    "c2 = Counter()\n",
    "c2.increase()  # count = 2\n",
    "\n",
    "c3 = Counter()\n",
    "c3.increase()  # count = 3\n",
    "\n",
    "print(Counter.even_or_odd())  # Output: Odd\n"
   ]
  },
  {
   "cell_type": "markdown",
   "id": "691b6b22",
   "metadata": {},
   "source": [
    "### **Example: Implementing Different Types of Methods**\n",
    "\n",
    "Let’s create a Person class to demonstrate instance, class, and static methods."
   ]
  },
  {
   "cell_type": "code",
   "execution_count": 31,
   "id": "008ca012",
   "metadata": {},
   "outputs": [
    {
     "name": "stdout",
     "output_type": "stream",
     "text": [
      "Alice is 25 years old and is a Homo sapiens.\n",
      "Species updated to Homo sapiens sapiens.\n",
      "Alice is 25 years old and is a Homo sapiens sapiens.\n",
      "Is Alice an adult? True\n"
     ]
    }
   ],
   "source": [
    "class Person:\n",
    "    # Class attribute\n",
    "    species = \"Homo sapiens\"\n",
    "\n",
    "    # Constructor\n",
    "    def __init__(self, name, age):\n",
    "        self.name = name  # Instance attribute\n",
    "        self.age = age    # Instance attribute\n",
    "\n",
    "    # Instance method\n",
    "    def display(self):\n",
    "        print(f\"{self.name} is {self.age} years old and is a {self.species}.\")\n",
    "\n",
    "    # Class method\n",
    "    @classmethod\n",
    "    def update_species(cls, new_species):\n",
    "        cls.species = new_species\n",
    "        print(f\"Species updated to {cls.species}.\")\n",
    "\n",
    "    # Static method\n",
    "    @staticmethod\n",
    "    def is_adult(age):\n",
    "        return age >= 18\n",
    "\n",
    "# Create an instance of the Person class\n",
    "person1 = Person(\"Alice\", 25)\n",
    "\n",
    "# Call instance method\n",
    "person1.display()  # Output: Alice is 25 years old and is a Homo sapiens.\n",
    "\n",
    "# Call class method to update species\n",
    "Person.update_species(\"Homo sapiens sapiens\")  # Output: Species updated to Homo sapiens sapiens.\n",
    "person1.display()  # Output: Alice is 25 years old and is a Homo sapiens sapiens.\n",
    "\n",
    "# Call static method to check if the person is an adult\n",
    "print(f\"Is Alice an adult? {Person.is_adult(person1.age)}\")  # Output: Is Alice an adult? True"
   ]
  }
 ],
 "metadata": {
  "kernelspec": {
   "display_name": "Python 3",
   "language": "python",
   "name": "python3"
  },
  "language_info": {
   "codemirror_mode": {
    "name": "ipython",
    "version": 3
   },
   "file_extension": ".py",
   "mimetype": "text/x-python",
   "name": "python",
   "nbconvert_exporter": "python",
   "pygments_lexer": "ipython3",
   "version": "3.13.2"
  }
 },
 "nbformat": 4,
 "nbformat_minor": 5
}
