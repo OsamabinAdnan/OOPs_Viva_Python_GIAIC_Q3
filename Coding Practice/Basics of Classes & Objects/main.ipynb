{
 "cells": [
  {
   "cell_type": "markdown",
   "id": "6a75a520",
   "metadata": {},
   "source": [
    "### **Creating a Simple Class and Object**"
   ]
  },
  {
   "cell_type": "code",
   "execution_count": 1,
   "id": "ed273d50",
   "metadata": {},
   "outputs": [
    {
     "name": "stdout",
     "output_type": "stream",
     "text": [
      "Accelerating by 50 km/h. New speed: 50 km/h\n",
      "Braking by 20 km/h. New speed: 30 km/h\n",
      "Vehicle Color: Red\n",
      "Current Speed: 30 km/h\n"
     ]
    }
   ],
   "source": [
    "class Vehicle:\n",
    "    def __init__(self, color, speed):\n",
    "        self.color = color\n",
    "        self.speed = speed\n",
    "    \n",
    "    def accelerate(self, increment):\n",
    "        self.speed += increment\n",
    "        print(f\"Accelerating by {increment} km/h. New speed: {self.speed} km/h\")\n",
    "    \n",
    "    def brake(self, decrement):\n",
    "        self.speed -= decrement\n",
    "        print(f\"Braking by {decrement} km/h. New speed: {self.speed} km/h\")\n",
    "    \n",
    "    def display(self):\n",
    "        print(f\"Vehicle Color: {self.color}\")\n",
    "        print(f\"Current Speed: {self.speed} km/h\")\n",
    "\n",
    "my_car = Vehicle(\"Red\", 0)\n",
    "my_car.accelerate(50)\n",
    "my_car.brake(20)\n",
    "my_car.display()"
   ]
  }
 ],
 "metadata": {
  "kernelspec": {
   "display_name": "Python 3",
   "language": "python",
   "name": "python3"
  },
  "language_info": {
   "codemirror_mode": {
    "name": "ipython",
    "version": 3
   },
   "file_extension": ".py",
   "mimetype": "text/x-python",
   "name": "python",
   "nbconvert_exporter": "python",
   "pygments_lexer": "ipython3",
   "version": "3.13.2"
  }
 },
 "nbformat": 4,
 "nbformat_minor": 5
}
