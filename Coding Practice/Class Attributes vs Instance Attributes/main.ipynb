{
 "cells": [
  {
   "cell_type": "markdown",
   "id": "0214fb27",
   "metadata": {},
   "source": [
    "| Aspect      | Class Attributes                                            | Instance Attributes                                              |\n",
    "|-------------|-------------------------------------------------------------|------------------------------------------------------------------|\n",
    "| Definition  | Defined directly inside the class, outside any method.      | Defined inside the constructor (`__init__`) or other methods.    |\n",
    "| Scope       | Shared among all instances of the class.                    | Unique to each instance of the class.                            |\n",
    "| Memory      | Stored once for the class.                                  | Stored separately for each instance.                             |\n",
    "| Usage       | Used for attributes common to all instances.                | Used for attributes specific to an instance.                     |\n"
   ]
  },
  {
   "cell_type": "markdown",
   "id": "68c86eff",
   "metadata": {},
   "source": [
    "### **Working with Class and Instance Attributes**\n",
    "\n",
    "Let’s create a Dog class with both class attributes and instance attributes to demonstrate these concepts."
   ]
  },
  {
   "cell_type": "code",
   "execution_count": 1,
   "id": "b92dcf0d",
   "metadata": {},
   "outputs": [
    {
     "name": "stdout",
     "output_type": "stream",
     "text": [
      "Dog species: Canis familiaris\n",
      "Buddy species: Canis familiaris\n",
      "Max's species: Canis familiaris\n",
      "Buddy's name: Buddy\n",
      "Max's age: 4\n",
      "Buddy's species after modification: Canis lupus familiaris\n",
      "Max's species after modification: Canis lupus familiaris\n",
      "Buddy's species after shadowing: Canis aureus\n",
      "Max's species remains: Canis lupus familiaris\n",
      "Dog class attributes: {'__module__': '__main__', '__firstlineno__': 1, 'species': 'Canis lupus familiaris', '__init__': <function Dog.__init__ at 0x0000014709E92660>, 'display': <function Dog.display at 0x0000014709E92700>, '__static_attributes__': ('age', 'name'), '__dict__': <attribute '__dict__' of 'Dog' objects>, '__weakref__': <attribute '__weakref__' of 'Dog' objects>, '__doc__': None}\n",
      "dog1 instance attributes: {'name': 'Buddy', 'age': 3, 'species': 'Canis aureus'}\n",
      "dog2 instance attributes: {'name': 'Max', 'age': 4}\n"
     ]
    }
   ],
   "source": [
    "class Dog:\n",
    "    # Class attribute (shared by all instances)\n",
    "    species = \"Canis familiaris\"\n",
    "\n",
    "    # Constructor (instance attributes)\n",
    "    def __init__ (self, name, age):\n",
    "        self.name = name\n",
    "        self.age = age\n",
    "    \n",
    "    # Method to display Dog detail\n",
    "    def display (self):\n",
    "        print(f\"Name: {self.name}, Age: {self.age}, Species: {self.species}\")\n",
    "\n",
    "dog1 = Dog(\"Buddy\", 3)\n",
    "dog2 = Dog(\"Max\", 4)\n",
    "\n",
    "# Access class attribute\n",
    "print(f\"Dog species: {Dog.species}\")\n",
    "print(f\"Buddy species: {dog1.species}\")\n",
    "print(f\"Max's species: {dog2.species}\")\n",
    "\n",
    "# Access instance attributes\n",
    "print(f\"Buddy's name: {dog1.name}\")  # Output: Buddy's name: Buddy\n",
    "print(f\"Max's age: {dog2.age}\")       # Output: Max's age: 3\n",
    "\n",
    "# Modify class attribute (affects all instances)\n",
    "Dog.species = \"Canis lupus familiaris\"\n",
    "print(f\"Buddy's species after modification: {dog1.species}\")  # Output: Buddy's species after modification: Canis lupus\n",
    "print(f\"Max's species after modification: {dog2.species}\")    # Output: Max's species after modification: Canis lupus\n",
    "\n",
    "# Modify class attribute through an instance (creates a new instance attribute)\n",
    "dog1.species = \"Canis aureus\"\n",
    "print(f\"Buddy's species after shadowing: {dog1.species}\")  # Output: Buddy's species after shadowing: Canis aureus\n",
    "print(f\"Max's species remains: {dog2.species}\")            # Output: Max's species remains: Canis lupus\n",
    "\n",
    "# Inspect attributes using __dict__\n",
    "print(f\"Dog class attributes: {Dog.__dict__}\")\n",
    "print(f\"dog1 instance attributes: {dog1.__dict__}\")\n",
    "print(f\"dog2 instance attributes: {dog2.__dict__}\")"
   ]
  },
  {
   "cell_type": "markdown",
   "id": "394fdbef",
   "metadata": {},
   "source": [
    "### **Problem 1: Basic Class and Instance Attributes**\n",
    "\n",
    "```python\n",
    "class Car:\n",
    "    wheels = 4  # class attribute\n",
    "\n",
    "    def __init__(self, color):\n",
    "        self.color = color  # instance attribute\n",
    "```\n",
    "**Problem:** Create 2 car objects with different colors. Check if both share the same number of wheels."
   ]
  },
  {
   "cell_type": "code",
   "execution_count": null,
   "id": "7036a75e",
   "metadata": {},
   "outputs": [
    {
     "name": "stdout",
     "output_type": "stream",
     "text": [
      "car1 color: Red, wheels: 4\n",
      "car2 color: Blue, wheels: 4\n"
     ]
    }
   ],
   "source": [
    "class Car:\n",
    "    wheels = 4\n",
    "\n",
    "    def __init__ (self, color):\n",
    "        self.color = color\n",
    "\n",
    "car1 = Car(\"Red\")\n",
    "car2 = Car(\"Blue\")\n",
    "\n",
    "print(f\"car1 color: {car1.color}, wheels: {car1.wheels}\")\n",
    "print(f\"car2 color: {car2.color}, wheels: {car2.wheels}\")"
   ]
  },
  {
   "cell_type": "markdown",
   "id": "e5da2651",
   "metadata": {},
   "source": [
    "### **Problem 2: Modify Class Attribute**\n",
    "\n",
    "``` python\n",
    "class Animal:\n",
    "    species = \"Dog\"\n",
    "\n",
    "    def __init__(self, name):\n",
    "        self.name = name\n",
    "```\n",
    "**Problem:**\n",
    "\n",
    "Create 2 Animal instances.\n",
    "\n",
    "Change the class attribute species to \"Wolf\" using the class.\n",
    "\n",
    "What happens to existing instances?\n",
    "\n"
   ]
  },
  {
   "cell_type": "code",
   "execution_count": 3,
   "id": "b5b5c043",
   "metadata": {},
   "outputs": [
    {
     "name": "stdout",
     "output_type": "stream",
     "text": [
      "animal 1 name: Buddy, species: Dog\n",
      "animal 2 name: Max, species: Dog\n",
      "animal 1 name: Buddy, species: Wolf\n",
      "animal 2 name: Max, species: Wolf\n"
     ]
    }
   ],
   "source": [
    "class Animal:\n",
    "    species = \"Dog\"\n",
    "\n",
    "    def __init__(self, name):\n",
    "        self.name = name\n",
    "\n",
    "ani1 = Animal(\"Buddy\")\n",
    "ani2 = Animal(\"Max\")\n",
    "print(f\"animal 1 name: {ani1.name}, species: {ani1.species}\")\n",
    "print(f\"animal 2 name: {ani2.name}, species: {ani2.species}\")\n",
    "\n",
    "Animal.species = \"Wolf\"\n",
    "\n",
    "print(f\"animal 1 name: {ani1.name}, species: {ani1.species}\")\n",
    "print(f\"animal 2 name: {ani2.name}, species: {ani2.species}\")\n"
   ]
  },
  {
   "cell_type": "markdown",
   "id": "b79c558b",
   "metadata": {},
   "source": [
    "### **Problem 3: Tracking Instance Count**\n",
    "\n",
    "``` python\n",
    "class Person:\n",
    "    count = 0\n",
    "\n",
    "    def __init__(self, name):\n",
    "        self.name = name\n",
    "        Person.count += 1\n",
    "```\n",
    "**Problem:**\n",
    "\n",
    "Create 3 Person objects.\n",
    "\n",
    "Print how many persons were created using the count class attribute."
   ]
  },
  {
   "cell_type": "code",
   "execution_count": 4,
   "id": "27291388",
   "metadata": {},
   "outputs": [
    {
     "name": "stdout",
     "output_type": "stream",
     "text": [
      "Person count: 3\n"
     ]
    }
   ],
   "source": [
    "class Person:\n",
    "    count = 0\n",
    "\n",
    "    def __init__ (self, name):\n",
    "        self.name = name\n",
    "        Person.count += 1\n",
    "\n",
    "person1 = Person(\"John\")\n",
    "person2 = Person(\"Jane\")\n",
    "person3 = Person(\"Bob\")\n",
    "\n",
    "print(f\"Person count: {Person.count}\")"
   ]
  },
  {
   "cell_type": "markdown",
   "id": "66b5c8b8",
   "metadata": {},
   "source": [
    "### **Problem 4: Class Attribute for Shared Settings**\n",
    "\n",
    "``` python\n",
    "class Game:\n",
    "    max_players = 4\n",
    "\n",
    "    def __init__(self, name):\n",
    "        self.name = name\n",
    "```\n",
    "**Problem:**\n",
    "\n",
    "Create two game instances.\n",
    "\n",
    "Access max_players through both.\n",
    "\n",
    "Change max_players through one instance. What happens?"
   ]
  },
  {
   "cell_type": "code",
   "execution_count": 6,
   "id": "57f8ea5f",
   "metadata": {},
   "outputs": [
    {
     "name": "stdout",
     "output_type": "stream",
     "text": [
      "Game 1 name: Cricket, max players: 4\n",
      "Game 2 name: Football, max players: 4\n",
      "Game 1 name: Cricket, max players: 6\n",
      "Game 2 name: Football, max players: 4\n"
     ]
    }
   ],
   "source": [
    "class Game:\n",
    "    max_players = 4\n",
    "\n",
    "    def __init__(self, name):\n",
    "        self.name = name\n",
    "\n",
    "game1 = Game(\"Cricket\")\n",
    "game2 = Game(\"Football\")\n",
    "\n",
    "print(f\"Game 1 name: {game1.name}, max players: {game1.max_players}\")\n",
    "print(f\"Game 2 name: {game2.name}, max players: {game2.max_players}\")\n",
    "\n",
    "game1.max_players = 6\n",
    "\n",
    "print(f\"Game 1 name: {game1.name}, max players: {game1.max_players}\")\n",
    "print(f\"Game 2 name: {game2.name}, max players: {game2.max_players}\")\n"
   ]
  },
  {
   "cell_type": "markdown",
   "id": "0a32bd60",
   "metadata": {},
   "source": [
    "### **Problem 5: Instance vs Class Attribute Conflict**\n",
    "\n",
    "```python\n",
    "class Bird:\n",
    "    wings = 2\n",
    "\n",
    "    def __init__(self, name):\n",
    "        self.name = name\n",
    "```\n",
    "**Problem:**\n",
    "\n",
    "Override wings using an instance (e.g. bird1.wings = 1).\n",
    "\n",
    "What happens when you print wings from the class and both instances?"
   ]
  },
  {
   "cell_type": "code",
   "execution_count": 8,
   "id": "0ced5eb6",
   "metadata": {},
   "outputs": [
    {
     "name": "stdout",
     "output_type": "stream",
     "text": [
      "Bird 1 name: Pigeon, wings: 2\n",
      "Bird 2 name: Eagle, wings: 2\n",
      "Bird 1 (from class) name: Pigeon, wings: 2\n",
      "Bird 1 (from instance) name: Pigeon, wings: 1\n",
      "Bird 2 (from instance) name: Eagle, wings: 2\n"
     ]
    }
   ],
   "source": [
    "class Bird:\n",
    "    wings = 2\n",
    "\n",
    "    def __init__(self, name):\n",
    "        self.name = name\n",
    "\n",
    "bird1 = Bird(\"Pigeon\")\n",
    "bird2 = Bird(\"Eagle\")\n",
    "\n",
    "print(f\"Bird 1 name: {bird1.name}, wings: {bird1.wings}\")\n",
    "print(f\"Bird 2 name: {bird2.name}, wings: {bird2.wings}\")\n",
    "\n",
    "bird1.wings = 1\n",
    "\n",
    "print(f\"Bird 1 (from class) name: {bird1.name}, wings: {Bird.wings}\")\n",
    "print(f\"Bird 1 (from instance) name: {bird1.name}, wings: {bird1.wings}\")\n",
    "print(f\"Bird 2 (from instance) name: {bird2.name}, wings: {bird2.wings}\")"
   ]
  },
  {
   "cell_type": "markdown",
   "id": "c235048a",
   "metadata": {},
   "source": [
    "### **Problem 6: Class Attribute Counter with Deletion**\n",
    "\n",
    "``` python\n",
    "class User:\n",
    "    active_users = 0\n",
    "\n",
    "    def __init__(self, username):\n",
    "        self.username = username\n",
    "        User.active_users += 1\n",
    "\n",
    "    def logout(self):\n",
    "        User.active_users -= 1\n",
    "```\n",
    "**Problem:**\n",
    "\n",
    "Create 3 users.\n",
    "\n",
    "Call logout on one of them.\n",
    "\n",
    "Check how many active users remain."
   ]
  },
  {
   "cell_type": "code",
   "execution_count": 9,
   "id": "e91652d2",
   "metadata": {},
   "outputs": [
    {
     "name": "stdout",
     "output_type": "stream",
     "text": [
      "Active users: 3\n",
      "Active users after user1 logout: 2\n"
     ]
    }
   ],
   "source": [
    "class User:\n",
    "    active_users = 0\n",
    "\n",
    "    def __init__(self, username):\n",
    "        self.username = username\n",
    "        User.active_users += 1\n",
    "    \n",
    "    def logout(self):\n",
    "        User.active_users -= 1\n",
    "\n",
    "user1 = User(\"John\")\n",
    "user2 = User(\"Jane\")\n",
    "user3 = User(\"Bob\")\n",
    "\n",
    "print(f\"Active users: {User.active_users}\")\n",
    "\n",
    "user1.logout()\n",
    "print(f\"Active users after user1 logout: {User.active_users}\")\n"
   ]
  }
 ],
 "metadata": {
  "kernelspec": {
   "display_name": "Python 3",
   "language": "python",
   "name": "python3"
  },
  "language_info": {
   "codemirror_mode": {
    "name": "ipython",
    "version": 3
   },
   "file_extension": ".py",
   "mimetype": "text/x-python",
   "name": "python",
   "nbconvert_exporter": "python",
   "pygments_lexer": "ipython3",
   "version": "3.13.2"
  }
 },
 "nbformat": 4,
 "nbformat_minor": 5
}
