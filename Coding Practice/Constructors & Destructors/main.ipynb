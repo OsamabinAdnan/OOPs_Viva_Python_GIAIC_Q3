{
 "cells": [
  {
   "cell_type": "markdown",
   "id": "011bef35",
   "metadata": {},
   "source": [
    "### **Using Constructors and Destructors**\n",
    "\n",
    "Let’s create a Car class with a parameterized constructor and a destructor."
   ]
  },
  {
   "cell_type": "code",
   "execution_count": 5,
   "id": "b2e1aebe",
   "metadata": {},
   "outputs": [
    {
     "name": "stdout",
     "output_type": "stream",
     "text": [
      "A Toyota Corolla is created.\n",
      "My car is a Toyota Corolla.\n",
      "Car: Toyota Corolla\n",
      "A Toyota Corolla is destroyed.\n"
     ]
    }
   ],
   "source": [
    "class Car:\n",
    "    # Parameterized Constructor\n",
    "    def __init__(self, brand, model):\n",
    "        self.brand = brand\n",
    "        self.model = model\n",
    "        print(f\"A {self.brand} {self.model} is created.\")\n",
    "    \n",
    "    # Destructor\n",
    "    def __del__(self):\n",
    "        print(f\"A {self.brand} {self.model} is destroyed.\")\n",
    "    \n",
    "    def display(self):\n",
    "        print(f\"Car: {self.brand} {self.model}\")\n",
    "\n",
    "# Create an object of the Car class\n",
    "my_car = Car(\"Toyota\", \"Corolla\")\n",
    "\n",
    "# Access attributes and call methods\n",
    "print(f\"My car is a {my_car.brand} {my_car.model}.\")  # Output: My car is a Toyota Corolla.\n",
    "my_car.display()  # Output: Car: Toyota Corolla\n",
    "\n",
    "# Explicitly delete the object (triggers the destructor)\n",
    "del my_car  # Output: The Toyota Corolla has been destr\n",
    "\n",
    "# my_car.display() # Output: NameError: name 'my_car' is not defined"
   ]
  },
  {
   "cell_type": "markdown",
   "id": "fef7b140",
   "metadata": {},
   "source": [
    "**Explanation of the Code**\n",
    "\n",
    "**Constructor (__init__):**\n",
    "\n",
    "The __init__ method initializes the brand and model attributes of the Car class and prints a message when the object is created.\n",
    "\n",
    "**Destructor (__del__):**\n",
    "\n",
    "The __del__ method prints a message when the object is destroyed. This is triggered automatically when the object goes out of scope or is explicitly deleted using the del keyword.\n",
    "\n",
    "**Object Creation:**\n",
    "\n",
    "An object my_car is created with the brand \"Toyota\" and model \"Corolla\". The constructor is called automatically.\n",
    "\n",
    "**Object Deletion:**\n",
    "\n",
    "The del keyword is used to explicitly delete the my_car object, which triggers the destructor."
   ]
  }
 ],
 "metadata": {
  "kernelspec": {
   "display_name": "Python 3",
   "language": "python",
   "name": "python3"
  },
  "language_info": {
   "codemirror_mode": {
    "name": "ipython",
    "version": 3
   },
   "file_extension": ".py",
   "mimetype": "text/x-python",
   "name": "python",
   "nbconvert_exporter": "python",
   "pygments_lexer": "ipython3",
   "version": "3.13.2"
  }
 },
 "nbformat": 4,
 "nbformat_minor": 5
}
