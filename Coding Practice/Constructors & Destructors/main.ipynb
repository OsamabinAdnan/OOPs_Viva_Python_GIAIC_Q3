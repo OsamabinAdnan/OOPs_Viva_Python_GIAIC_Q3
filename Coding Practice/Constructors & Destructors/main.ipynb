{
 "cells": [
  {
   "cell_type": "markdown",
   "id": "011bef35",
   "metadata": {},
   "source": [
    "### **Using Constructors and Destructors**\n",
    "\n",
    "Let’s create a Car class with a parameterized constructor and a destructor."
   ]
  },
  {
   "cell_type": "code",
   "execution_count": 5,
   "id": "b2e1aebe",
   "metadata": {},
   "outputs": [
    {
     "name": "stdout",
     "output_type": "stream",
     "text": [
      "A Toyota Corolla is created.\n",
      "My car is a Toyota Corolla.\n",
      "Car: Toyota Corolla\n",
      "A Toyota Corolla is destroyed.\n"
     ]
    }
   ],
   "source": [
    "class Car:\n",
    "    # Parameterized Constructor\n",
    "    def __init__(self, brand, model):\n",
    "        self.brand = brand\n",
    "        self.model = model\n",
    "        print(f\"A {self.brand} {self.model} is created.\")\n",
    "    \n",
    "    # Destructor\n",
    "    def __del__(self):\n",
    "        print(f\"A {self.brand} {self.model} is destroyed.\")\n",
    "    \n",
    "    def display(self):\n",
    "        print(f\"Car: {self.brand} {self.model}\")\n",
    "\n",
    "# Create an object of the Car class\n",
    "my_car = Car(\"Toyota\", \"Corolla\")\n",
    "\n",
    "# Access attributes and call methods\n",
    "print(f\"My car is a {my_car.brand} {my_car.model}.\")  # Output: My car is a Toyota Corolla.\n",
    "my_car.display()  # Output: Car: Toyota Corolla\n",
    "\n",
    "# Explicitly delete the object (triggers the destructor)\n",
    "del my_car  # Output: The Toyota Corolla has been destr\n",
    "\n",
    "# my_car.display() # Output: NameError: name 'my_car' is not defined"
   ]
  },
  {
   "cell_type": "markdown",
   "id": "fef7b140",
   "metadata": {},
   "source": [
    "**Explanation of the Code**\n",
    "\n",
    "**Constructor (__init__):**\n",
    "\n",
    "The __init__ method initializes the brand and model attributes of the Car class and prints a message when the object is created.\n",
    "\n",
    "**Destructor (__del__):**\n",
    "\n",
    "The __del__ method prints a message when the object is destroyed. This is triggered automatically when the object goes out of scope or is explicitly deleted using the del keyword.\n",
    "\n",
    "**Object Creation:**\n",
    "\n",
    "An object my_car is created with the brand \"Toyota\" and model \"Corolla\". The constructor is called automatically.\n",
    "\n",
    "**Object Deletion:**\n",
    "\n",
    "The del keyword is used to explicitly delete the my_car object, which triggers the destructor."
   ]
  },
  {
   "cell_type": "markdown",
   "id": "3a50e840",
   "metadata": {},
   "source": [
    "### **Problem 1:**\n",
    "\n",
    "Create a class Dog\n",
    "\n",
    "Use __init__ to set name and breed.\n",
    "\n",
    "Print a greeting like: “Woof! I’m Buddy the Golden Retriever!”"
   ]
  },
  {
   "cell_type": "code",
   "execution_count": 1,
   "id": "f88f883c",
   "metadata": {},
   "outputs": [
    {
     "name": "stdout",
     "output_type": "stream",
     "text": [
      "Woof! I'm Buddy, the Golden Retriever!\n"
     ]
    }
   ],
   "source": [
    "class Dog:\n",
    "    def __init__ (self, name, breed):\n",
    "        self.name = name\n",
    "        self.breed = breed\n",
    "    def display_info(self):\n",
    "        print(f\"Woof! I'm {self.name}, the {self.breed}!\")\n",
    "\n",
    "dog1= Dog(\"Buddy\", \"Golden Retriever\")\n",
    "dog1.display_info()"
   ]
  },
  {
   "cell_type": "markdown",
   "id": "eb1fcc7b",
   "metadata": {},
   "source": [
    "### **Problem 2:**\n",
    "\n",
    "Create a class Counter\n",
    "\n",
    "Track how many instances were created using a class variable.\n",
    "\n",
    "Print the count during initialization."
   ]
  },
  {
   "cell_type": "code",
   "execution_count": 6,
   "id": "dded10fb",
   "metadata": {},
   "outputs": [
    {
     "name": "stdout",
     "output_type": "stream",
     "text": [
      "Instance #1 created\n",
      "Instance #2 created\n",
      "Instance #3 created\n"
     ]
    }
   ],
   "source": [
    "class Counter:\n",
    "    instance_count = 0  # Class variable\n",
    "\n",
    "    def __init__(self):\n",
    "        Counter.instance_count += 1\n",
    "        print(f\"Instance #{Counter.instance_count} created\")\n",
    "        self.count = 0  # Instance variable\n",
    "\n",
    "    def increment(self):\n",
    "        self.count += 1\n",
    "        print(f\"The count has been incremented to {self.count}\")\n",
    "    \n",
    "    def display_count(self):\n",
    "        print(f\"The current count is {self.count}\")\n",
    "\n",
    "counter1 = Counter()\n",
    "counter2 = Counter()\n",
    "counter3 = Counter()\n"
   ]
  },
  {
   "cell_type": "markdown",
   "id": "c950ca47",
   "metadata": {},
   "source": [
    "### **Problem 3:**\n",
    "\n",
    "Add __del__ to the Dog class\n",
    "\n",
    "Print: “Buddy is going to sleep...” when the object is deleted."
   ]
  },
  {
   "cell_type": "code",
   "execution_count": 13,
   "id": "4de06ae8",
   "metadata": {},
   "outputs": [
    {
     "name": "stdout",
     "output_type": "stream",
     "text": [
      "Woof! I'm Buddy, the Golden Retriever!\n",
      "Buddy is going to sleep...\n"
     ]
    }
   ],
   "source": [
    "class Dog:\n",
    "    def __init__ (self, name, breed):\n",
    "        self.name = name\n",
    "        self.breed = breed\n",
    "    def display_info(self):\n",
    "        print(f\"Woof! I'm {self.name}, the {self.breed}!\")\n",
    "    \n",
    "    def __del__(self):\n",
    "        print(f\"{self.name} is going to sleep...\")\n",
    "\n",
    "dog1= Dog(\"Buddy\", \"Golden Retriever\")\n",
    "dog1.display_info()\n",
    "\n",
    "del dog1\n"
   ]
  },
  {
   "cell_type": "markdown",
   "id": "dfa7f247",
   "metadata": {},
   "source": [
    "### **Problem 4:**\n",
    "\n",
    "Immutable Custom Integer Class\n",
    "\n",
    "Subclass int\n",
    "\n",
    "Override __new__ to always return an even number (round up if needed)"
   ]
  },
  {
   "cell_type": "code",
   "execution_count": 20,
   "id": "44e1e3b9",
   "metadata": {},
   "outputs": [
    {
     "name": "stdout",
     "output_type": "stream",
     "text": [
      "Created even integer: 6\n",
      "Created even integer: 2\n",
      "6\n",
      "2\n"
     ]
    }
   ],
   "source": [
    "class CustomInteger(int):\n",
    "    def __new__(cls, value):\n",
    "        if value % 2 != 0:\n",
    "            value += 1\n",
    "        return super().__new__(cls, value)\n",
    "    \n",
    "    def __init__(self, value):\n",
    "        print(f\"Created even integer: {self}\")\n",
    "\n",
    "a = CustomInteger(5)  # Rounds to 6\n",
    "b = CustomInteger(2)  # Stays 2\n",
    "\n",
    "print(a)  # 6\n",
    "print(b)  # 2\n"
   ]
  },
  {
   "cell_type": "markdown",
   "id": "1e982baa",
   "metadata": {},
   "source": [
    "### **Problem 05: FileManager Class**\n",
    "\n",
    "Use __init__ to open a file\n",
    "\n",
    "Use __del__ to close the file\n",
    "\n",
    "Add a method to write to the file"
   ]
  },
  {
   "cell_type": "code",
   "execution_count": 24,
   "id": "19082fa7",
   "metadata": {},
   "outputs": [
    {
     "name": "stdout",
     "output_type": "stream",
     "text": [
      "File 'sample.txt' loaded successfully.\n",
      "File 'sample.txt' written successfully.\n",
      "File 'sample.txt' closed and object destroyed.\n"
     ]
    }
   ],
   "source": [
    "class FileManager:\n",
    "    def __init__(self, filename):\n",
    "        self.filename = filename\n",
    "        self.file = open(filename, 'r')\n",
    "        self.file_data = self.file.read()\n",
    "        print(f\"File '{filename}' loaded successfully.\")\n",
    "\n",
    "    def write_file(self, new_filename):\n",
    "        with open(new_filename, 'w') as file:\n",
    "            file.write(self.file_data)\n",
    "            print(f\"File '{new_filename}' written successfully.\")\n",
    "\n",
    "    def __del__(self):\n",
    "        if hasattr(self, 'file') and not self.file.closed:\n",
    "            self.file.close()\n",
    "            print(f\"File '{self.filename}' closed and object destroyed.\")\n",
    "\n",
    "file = FileManager(\"sample.txt\")\n",
    "file.write_file(\"sample.txt\")\n",
    "del file\n"
   ]
  },
  {
   "cell_type": "markdown",
   "id": "6a035847",
   "metadata": {},
   "source": [
    "### **Problem 06: Tracking Object Creation and Deletion**\n",
    "\n",
    "Make a class where:\n",
    "\n",
    "`__new__` prints “Object is being created”\n",
    "\n",
    "`__init__` sets a value\n",
    "\n",
    "`__del__` prints “Object is being deleted”\n",
    "\n"
   ]
  },
  {
   "cell_type": "code",
   "execution_count": 33,
   "id": "490b9281",
   "metadata": {},
   "outputs": [
    {
     "name": "stdout",
     "output_type": "stream",
     "text": [
      "Object is being created\n",
      "Object initialized with value: 42\n",
      "Object is being deleted\n"
     ]
    }
   ],
   "source": [
    "class Object(object):\n",
    "    def __new__(cls, *args, **kwargs):\n",
    "        print(\"Object is being created\")\n",
    "        return super().__new__(cls)\n",
    "\n",
    "    def __init__(self):\n",
    "        self.value = 42  # Example value\n",
    "        print(\"Object initialized with value:\", self.value)\n",
    "\n",
    "    def __del__(self):\n",
    "        print(\"Object is being deleted\")\n",
    "\n",
    "obj1 = Object()\n",
    "del obj1"
   ]
  }
 ],
 "metadata": {
  "kernelspec": {
   "display_name": "Python 3",
   "language": "python",
   "name": "python3"
  },
  "language_info": {
   "codemirror_mode": {
    "name": "ipython",
    "version": 3
   },
   "file_extension": ".py",
   "mimetype": "text/x-python",
   "name": "python",
   "nbconvert_exporter": "python",
   "pygments_lexer": "ipython3",
   "version": "3.13.2"
  }
 },
 "nbformat": 4,
 "nbformat_minor": 5
}
