{
 "cells": [
  {
   "cell_type": "markdown",
   "id": "f0f36d2e",
   "metadata": {},
   "source": [
    "### **Method Overriding**"
   ]
  },
  {
   "cell_type": "code",
   "execution_count": 4,
   "id": "39d6ca8b",
   "metadata": {},
   "outputs": [
    {
     "name": "stdout",
     "output_type": "stream",
     "text": [
      "Dog barks Woof!\n",
      "Cat meows Meow!\n",
      "Animal speaks\n"
     ]
    }
   ],
   "source": [
    "# Parent class\n",
    "class Animal:\n",
    "    def speak(self):\n",
    "        return \"Animal speaks\"\n",
    "\n",
    "# Child class\n",
    "class Dog(Animal):\n",
    "    def speak(self):\n",
    "        return \"Dog barks Woof!\"\n",
    "\n",
    "# Child class\n",
    "class Cat(Animal):\n",
    "    def speak(self):\n",
    "        return \"Cat meows Meow!\"\n",
    "\n",
    "class Cow(Animal):\n",
    "    pass\n",
    "\n",
    "# Function to demonstrate polymorphism\n",
    "def animal_sound(animal):\n",
    "    print(animal.speak())\n",
    "\n",
    "# Create instances of Dog and Cat\n",
    "dog =Dog()\n",
    "cat = Cat()\n",
    "cow = Cow()\n",
    "\n",
    "# Call the function with different objects\n",
    "animal_sound(dog)  # Output: Dog barks Woof!\n",
    "animal_sound(cat)  # Output: Cat meows Meow!\n",
    "animal_sound(cow)  # Output: Animal speaks"
   ]
  },
  {
   "cell_type": "markdown",
   "id": "855f25a7",
   "metadata": {},
   "source": [
    "### **Operator Overloading**"
   ]
  },
  {
   "cell_type": "code",
   "execution_count": 2,
   "id": "694ad3c7",
   "metadata": {},
   "outputs": [
    {
     "name": "stdout",
     "output_type": "stream",
     "text": [
      "Point(7, 10)\n"
     ]
    }
   ],
   "source": [
    "class Point:\n",
    "    def __init__ (self, x, y):\n",
    "        self.x = x\n",
    "        self.y = y\n",
    "    \n",
    "    # Overload the + operator\n",
    "    def __add__(self, other):\n",
    "        return Point(self.x + other.x, self.y + other.y)\n",
    "    \n",
    "    # Overload the str() function for printing\n",
    "    def __str__(self):\n",
    "        return f\"Point({self.x}, {self.y})\"\n",
    "\n",
    "# Create two Point objects\n",
    "p1 = Point(2, 3)\n",
    "p2 = Point(5, 7)\n",
    "\n",
    "# Use the + operator to add two points\n",
    "p3 = p1 + p2\n",
    "print(p3)  # Output: Point(7, 10)"
   ]
  },
  {
   "cell_type": "markdown",
   "id": "729587f5",
   "metadata": {},
   "source": [
    "### **Duck Typing**"
   ]
  },
  {
   "cell_type": "code",
   "execution_count": 3,
   "id": "a8d0b5f1",
   "metadata": {},
   "outputs": [
    {
     "name": "stdout",
     "output_type": "stream",
     "text": [
      "Quack Quack!\n",
      "I can quack like a duck!\n"
     ]
    }
   ],
   "source": [
    "class Duck:\n",
    "    def quack(self):\n",
    "        return \"Quack Quack!\"\n",
    "\n",
    "class Person:\n",
    "    def quack(self):\n",
    "        return \"I can quack like a duck!\"\n",
    "\n",
    "# Function to demonstrate duck typing\n",
    "def make_it_quack(thing):\n",
    "    print(thing.quack())\n",
    "\n",
    "# Create instances of Duck and Person\n",
    "duck = Duck()\n",
    "person = Person()\n",
    "\n",
    "# Call the function with different objects\n",
    "make_it_quack(duck)\n",
    "make_it_quack(person)  # Output: I can quack like a duck!"
   ]
  }
 ],
 "metadata": {
  "kernelspec": {
   "display_name": "Python 3",
   "language": "python",
   "name": "python3"
  },
  "language_info": {
   "codemirror_mode": {
    "name": "ipython",
    "version": 3
   },
   "file_extension": ".py",
   "mimetype": "text/x-python",
   "name": "python",
   "nbconvert_exporter": "python",
   "pygments_lexer": "ipython3",
   "version": "3.13.2"
  }
 },
 "nbformat": 4,
 "nbformat_minor": 5
}
